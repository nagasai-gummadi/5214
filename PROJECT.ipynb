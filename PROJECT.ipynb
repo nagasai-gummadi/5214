{
 "cells": [
  {
   "cell_type": "code",
   "execution_count": 83,
   "id": "1c32b756",
   "metadata": {},
   "outputs": [],
   "source": [
    "import numpy as np  \n",
    "import pandas as pd  \n",
    "import matplotlib.pyplot as plt\n",
    "import seaborn as sns  \n",
    "import warnings \n",
    "warnings.filterwarnings(\"ignore\")"
   ]
  },
  {
   "cell_type": "code",
   "execution_count": 84,
   "id": "3092ad81",
   "metadata": {},
   "outputs": [],
   "source": [
    "company_round_dataset = pd.read_csv('C:/Users/LaptopCheckout/Documents/CSCE_5214/rounds2.csv', encoding = 'ISO 8859-1')\n",
    "company_dataset = pd.read_csv('C:/Users/LaptopCheckout/Documents/CSCE_5214/companies.csv', encoding = 'ISO 8859-1')\n",
    "routing = pd.read_csv('C:/Users/LaptopCheckout/Documents/CSCE_5214//mapping.csv', encoding = 'ascii', engine = 'python')"
   ]
  },
  {
   "cell_type": "code",
   "execution_count": 85,
   "id": "1091ee84",
   "metadata": {},
   "outputs": [],
   "source": [
    "company_round_dataset = company_round_dataset.rename({'company_permalink': 'link'}, axis=1) "
   ]
  },
  {
   "cell_type": "code",
   "execution_count": 86,
   "id": "38c4d7b4",
   "metadata": {},
   "outputs": [],
   "source": [
    "company_dataset=company_dataset.rename({'permalink': 'round_link'}, axis=1) "
   ]
  },
  {
   "cell_type": "code",
   "execution_count": 87,
   "id": "de9d9549",
   "metadata": {},
   "outputs": [
    {
     "data": {
      "text/html": [
       "<div>\n",
       "<style scoped>\n",
       "    .dataframe tbody tr th:only-of-type {\n",
       "        vertical-align: middle;\n",
       "    }\n",
       "\n",
       "    .dataframe tbody tr th {\n",
       "        vertical-align: top;\n",
       "    }\n",
       "\n",
       "    .dataframe thead th {\n",
       "        text-align: right;\n",
       "    }\n",
       "</style>\n",
       "<table border=\"1\" class=\"dataframe\">\n",
       "  <thead>\n",
       "    <tr style=\"text-align: right;\">\n",
       "      <th></th>\n",
       "      <th>link</th>\n",
       "      <th>funding_round_permalink</th>\n",
       "      <th>funding_round_type</th>\n",
       "      <th>funding_round_code</th>\n",
       "      <th>funded_at</th>\n",
       "      <th>raised_amount_usd</th>\n",
       "    </tr>\n",
       "  </thead>\n",
       "  <tbody>\n",
       "    <tr>\n",
       "      <th>0</th>\n",
       "      <td>/organization/-fame</td>\n",
       "      <td>/funding-round/9a01d05418af9f794eebff7ace91f638</td>\n",
       "      <td>venture</td>\n",
       "      <td>B</td>\n",
       "      <td>5/1/2015</td>\n",
       "      <td>10000000.0</td>\n",
       "    </tr>\n",
       "    <tr>\n",
       "      <th>1</th>\n",
       "      <td>/ORGANIZATION/-QOUNTER</td>\n",
       "      <td>/funding-round/22dacff496eb7acb2b901dec1dfe5633</td>\n",
       "      <td>venture</td>\n",
       "      <td>A</td>\n",
       "      <td>14-10-2014</td>\n",
       "      <td>NaN</td>\n",
       "    </tr>\n",
       "    <tr>\n",
       "      <th>2</th>\n",
       "      <td>/organization/-qounter</td>\n",
       "      <td>/funding-round/b44fbb94153f6cdef13083530bb48030</td>\n",
       "      <td>seed</td>\n",
       "      <td>NaN</td>\n",
       "      <td>1/3/2014</td>\n",
       "      <td>700000.0</td>\n",
       "    </tr>\n",
       "    <tr>\n",
       "      <th>3</th>\n",
       "      <td>/ORGANIZATION/-THE-ONE-OF-THEM-INC-</td>\n",
       "      <td>/funding-round/650b8f704416801069bb178a1418776b</td>\n",
       "      <td>venture</td>\n",
       "      <td>B</td>\n",
       "      <td>30-01-2014</td>\n",
       "      <td>3406878.0</td>\n",
       "    </tr>\n",
       "    <tr>\n",
       "      <th>4</th>\n",
       "      <td>/organization/0-6-com</td>\n",
       "      <td>/funding-round/5727accaeaa57461bd22a9bdd945382d</td>\n",
       "      <td>venture</td>\n",
       "      <td>A</td>\n",
       "      <td>19-03-2008</td>\n",
       "      <td>2000000.0</td>\n",
       "    </tr>\n",
       "  </tbody>\n",
       "</table>\n",
       "</div>"
      ],
      "text/plain": [
       "                                  link  \\\n",
       "0                  /organization/-fame   \n",
       "1               /ORGANIZATION/-QOUNTER   \n",
       "2               /organization/-qounter   \n",
       "3  /ORGANIZATION/-THE-ONE-OF-THEM-INC-   \n",
       "4                /organization/0-6-com   \n",
       "\n",
       "                           funding_round_permalink funding_round_type  \\\n",
       "0  /funding-round/9a01d05418af9f794eebff7ace91f638            venture   \n",
       "1  /funding-round/22dacff496eb7acb2b901dec1dfe5633            venture   \n",
       "2  /funding-round/b44fbb94153f6cdef13083530bb48030               seed   \n",
       "3  /funding-round/650b8f704416801069bb178a1418776b            venture   \n",
       "4  /funding-round/5727accaeaa57461bd22a9bdd945382d            venture   \n",
       "\n",
       "  funding_round_code   funded_at  raised_amount_usd  \n",
       "0                  B    5/1/2015         10000000.0  \n",
       "1                  A  14-10-2014                NaN  \n",
       "2                NaN    1/3/2014           700000.0  \n",
       "3                  B  30-01-2014          3406878.0  \n",
       "4                  A  19-03-2008          2000000.0  "
      ]
     },
     "execution_count": 87,
     "metadata": {},
     "output_type": "execute_result"
    }
   ],
   "source": [
    "company_round_dataset.head()"
   ]
  },
  {
   "cell_type": "code",
   "execution_count": 88,
   "id": "9b7b7be4",
   "metadata": {},
   "outputs": [
    {
     "data": {
      "text/plain": [
       "(66368, 10)"
      ]
     },
     "execution_count": 88,
     "metadata": {},
     "output_type": "execute_result"
    }
   ],
   "source": [
    "company_dataset.shape"
   ]
  },
  {
   "cell_type": "code",
   "execution_count": 89,
   "id": "f082730a",
   "metadata": {},
   "outputs": [
    {
     "name": "stdout",
     "output_type": "stream",
     "text": [
      "<class 'pandas.core.frame.DataFrame'>\n",
      "RangeIndex: 66368 entries, 0 to 66367\n",
      "Data columns (total 10 columns):\n",
      " #   Column         Non-Null Count  Dtype \n",
      "---  ------         --------------  ----- \n",
      " 0   round_link     66368 non-null  object\n",
      " 1   name           66367 non-null  object\n",
      " 2   homepage_url   61310 non-null  object\n",
      " 3   category_list  63220 non-null  object\n",
      " 4   status         66368 non-null  object\n",
      " 5   country_code   59410 non-null  object\n",
      " 6   state_code     57821 non-null  object\n",
      " 7   region         58338 non-null  object\n",
      " 8   city           58340 non-null  object\n",
      " 9   founded_at     51147 non-null  object\n",
      "dtypes: object(10)\n",
      "memory usage: 5.1+ MB\n"
     ]
    }
   ],
   "source": [
    "company_dataset.info()"
   ]
  },
  {
   "cell_type": "code",
   "execution_count": 90,
   "id": "413f2ece",
   "metadata": {},
   "outputs": [
    {
     "data": {
      "text/html": [
       "<div>\n",
       "<style scoped>\n",
       "    .dataframe tbody tr th:only-of-type {\n",
       "        vertical-align: middle;\n",
       "    }\n",
       "\n",
       "    .dataframe tbody tr th {\n",
       "        vertical-align: top;\n",
       "    }\n",
       "\n",
       "    .dataframe thead th {\n",
       "        text-align: right;\n",
       "    }\n",
       "</style>\n",
       "<table border=\"1\" class=\"dataframe\">\n",
       "  <thead>\n",
       "    <tr style=\"text-align: right;\">\n",
       "      <th></th>\n",
       "      <th>round_link</th>\n",
       "      <th>name</th>\n",
       "      <th>homepage_url</th>\n",
       "      <th>category_list</th>\n",
       "      <th>status</th>\n",
       "      <th>country_code</th>\n",
       "      <th>state_code</th>\n",
       "      <th>region</th>\n",
       "      <th>city</th>\n",
       "      <th>founded_at</th>\n",
       "    </tr>\n",
       "  </thead>\n",
       "  <tbody>\n",
       "    <tr>\n",
       "      <th>count</th>\n",
       "      <td>66368</td>\n",
       "      <td>66367</td>\n",
       "      <td>61310</td>\n",
       "      <td>63220</td>\n",
       "      <td>66368</td>\n",
       "      <td>59410</td>\n",
       "      <td>57821</td>\n",
       "      <td>58338</td>\n",
       "      <td>58340</td>\n",
       "      <td>51147</td>\n",
       "    </tr>\n",
       "    <tr>\n",
       "      <th>unique</th>\n",
       "      <td>66368</td>\n",
       "      <td>66099</td>\n",
       "      <td>61191</td>\n",
       "      <td>27296</td>\n",
       "      <td>4</td>\n",
       "      <td>137</td>\n",
       "      <td>311</td>\n",
       "      <td>1092</td>\n",
       "      <td>5111</td>\n",
       "      <td>3978</td>\n",
       "    </tr>\n",
       "    <tr>\n",
       "      <th>top</th>\n",
       "      <td>/Organization/-Fame</td>\n",
       "      <td>#NAME?</td>\n",
       "      <td>http://www.askforoffer.com</td>\n",
       "      <td>Software</td>\n",
       "      <td>operating</td>\n",
       "      <td>USA</td>\n",
       "      <td>CA</td>\n",
       "      <td>SF Bay Area</td>\n",
       "      <td>San Francisco</td>\n",
       "      <td>1/1/2012</td>\n",
       "    </tr>\n",
       "    <tr>\n",
       "      <th>freq</th>\n",
       "      <td>1</td>\n",
       "      <td>4</td>\n",
       "      <td>5</td>\n",
       "      <td>3995</td>\n",
       "      <td>53034</td>\n",
       "      <td>37601</td>\n",
       "      <td>12900</td>\n",
       "      <td>8804</td>\n",
       "      <td>3526</td>\n",
       "      <td>2730</td>\n",
       "    </tr>\n",
       "  </tbody>\n",
       "</table>\n",
       "</div>"
      ],
      "text/plain": [
       "                 round_link    name                homepage_url category_list  \\\n",
       "count                 66368   66367                       61310         63220   \n",
       "unique                66368   66099                       61191         27296   \n",
       "top     /Organization/-Fame  #NAME?  http://www.askforoffer.com      Software   \n",
       "freq                      1       4                           5          3995   \n",
       "\n",
       "           status country_code state_code       region           city  \\\n",
       "count       66368        59410      57821        58338          58340   \n",
       "unique          4          137        311         1092           5111   \n",
       "top     operating          USA         CA  SF Bay Area  San Francisco   \n",
       "freq        53034        37601      12900         8804           3526   \n",
       "\n",
       "       founded_at  \n",
       "count       51147  \n",
       "unique       3978  \n",
       "top      1/1/2012  \n",
       "freq         2730  "
      ]
     },
     "execution_count": 90,
     "metadata": {},
     "output_type": "execute_result"
    }
   ],
   "source": [
    "company_dataset.describe()"
   ]
  },
  {
   "cell_type": "code",
   "execution_count": 91,
   "id": "a5750f9c",
   "metadata": {},
   "outputs": [
    {
     "data": {
      "text/html": [
       "<div>\n",
       "<style scoped>\n",
       "    .dataframe tbody tr th:only-of-type {\n",
       "        vertical-align: middle;\n",
       "    }\n",
       "\n",
       "    .dataframe tbody tr th {\n",
       "        vertical-align: top;\n",
       "    }\n",
       "\n",
       "    .dataframe thead th {\n",
       "        text-align: right;\n",
       "    }\n",
       "</style>\n",
       "<table border=\"1\" class=\"dataframe\">\n",
       "  <thead>\n",
       "    <tr style=\"text-align: right;\">\n",
       "      <th></th>\n",
       "      <th>link</th>\n",
       "      <th>funding_round_permalink</th>\n",
       "      <th>funding_round_type</th>\n",
       "      <th>funding_round_code</th>\n",
       "      <th>funded_at</th>\n",
       "      <th>raised_amount_usd</th>\n",
       "    </tr>\n",
       "  </thead>\n",
       "  <tbody>\n",
       "    <tr>\n",
       "      <th>0</th>\n",
       "      <td>/organization/-fame</td>\n",
       "      <td>/funding-round/9a01d05418af9f794eebff7ace91f638</td>\n",
       "      <td>venture</td>\n",
       "      <td>B</td>\n",
       "      <td>5/1/2015</td>\n",
       "      <td>10000000.0</td>\n",
       "    </tr>\n",
       "    <tr>\n",
       "      <th>1</th>\n",
       "      <td>/ORGANIZATION/-QOUNTER</td>\n",
       "      <td>/funding-round/22dacff496eb7acb2b901dec1dfe5633</td>\n",
       "      <td>venture</td>\n",
       "      <td>A</td>\n",
       "      <td>14-10-2014</td>\n",
       "      <td>NaN</td>\n",
       "    </tr>\n",
       "    <tr>\n",
       "      <th>2</th>\n",
       "      <td>/organization/-qounter</td>\n",
       "      <td>/funding-round/b44fbb94153f6cdef13083530bb48030</td>\n",
       "      <td>seed</td>\n",
       "      <td>NaN</td>\n",
       "      <td>1/3/2014</td>\n",
       "      <td>700000.0</td>\n",
       "    </tr>\n",
       "    <tr>\n",
       "      <th>3</th>\n",
       "      <td>/ORGANIZATION/-THE-ONE-OF-THEM-INC-</td>\n",
       "      <td>/funding-round/650b8f704416801069bb178a1418776b</td>\n",
       "      <td>venture</td>\n",
       "      <td>B</td>\n",
       "      <td>30-01-2014</td>\n",
       "      <td>3406878.0</td>\n",
       "    </tr>\n",
       "    <tr>\n",
       "      <th>4</th>\n",
       "      <td>/organization/0-6-com</td>\n",
       "      <td>/funding-round/5727accaeaa57461bd22a9bdd945382d</td>\n",
       "      <td>venture</td>\n",
       "      <td>A</td>\n",
       "      <td>19-03-2008</td>\n",
       "      <td>2000000.0</td>\n",
       "    </tr>\n",
       "  </tbody>\n",
       "</table>\n",
       "</div>"
      ],
      "text/plain": [
       "                                  link  \\\n",
       "0                  /organization/-fame   \n",
       "1               /ORGANIZATION/-QOUNTER   \n",
       "2               /organization/-qounter   \n",
       "3  /ORGANIZATION/-THE-ONE-OF-THEM-INC-   \n",
       "4                /organization/0-6-com   \n",
       "\n",
       "                           funding_round_permalink funding_round_type  \\\n",
       "0  /funding-round/9a01d05418af9f794eebff7ace91f638            venture   \n",
       "1  /funding-round/22dacff496eb7acb2b901dec1dfe5633            venture   \n",
       "2  /funding-round/b44fbb94153f6cdef13083530bb48030               seed   \n",
       "3  /funding-round/650b8f704416801069bb178a1418776b            venture   \n",
       "4  /funding-round/5727accaeaa57461bd22a9bdd945382d            venture   \n",
       "\n",
       "  funding_round_code   funded_at  raised_amount_usd  \n",
       "0                  B    5/1/2015         10000000.0  \n",
       "1                  A  14-10-2014                NaN  \n",
       "2                NaN    1/3/2014           700000.0  \n",
       "3                  B  30-01-2014          3406878.0  \n",
       "4                  A  19-03-2008          2000000.0  "
      ]
     },
     "execution_count": 91,
     "metadata": {},
     "output_type": "execute_result"
    }
   ],
   "source": [
    "company_round_dataset.head()"
   ]
  },
  {
   "cell_type": "code",
   "execution_count": 92,
   "id": "5ea44a94",
   "metadata": {},
   "outputs": [
    {
     "data": {
      "text/plain": [
       "(114949, 6)"
      ]
     },
     "execution_count": 92,
     "metadata": {},
     "output_type": "execute_result"
    }
   ],
   "source": [
    "company_round_dataset.shape"
   ]
  },
  {
   "cell_type": "markdown",
   "id": "1e02349e",
   "metadata": {},
   "source": [
    "### looking for unique company's in round_dataset"
   ]
  },
  {
   "cell_type": "code",
   "execution_count": 93,
   "id": "c960d340",
   "metadata": {},
   "outputs": [
    {
     "data": {
      "text/plain": [
       "66370"
      ]
     },
     "execution_count": 93,
     "metadata": {},
     "output_type": "execute_result"
    }
   ],
   "source": [
    "company_round_dataset['link'] = company_round_dataset['link'].str.upper()\n",
    "company_round_dataset['link'].nunique(dropna = True)"
   ]
  },
  {
   "cell_type": "markdown",
   "id": "0f73ee49",
   "metadata": {},
   "source": [
    "### looking for unique company's in company_dataset"
   ]
  },
  {
   "cell_type": "code",
   "execution_count": 94,
   "id": "a9577909",
   "metadata": {},
   "outputs": [
    {
     "data": {
      "text/plain": [
       "66368"
      ]
     },
     "execution_count": 94,
     "metadata": {},
     "output_type": "execute_result"
    }
   ],
   "source": [
    "company_dataset['round_link'] = company_dataset['round_link'].str.upper()\n",
    "company_dataset['round_link'].nunique(dropna = True)"
   ]
  },
  {
   "cell_type": "markdown",
   "id": "d861257d",
   "metadata": {},
   "source": [
    "### looking for companies in round_dataset which are not present in companies_dataset"
   ]
  },
  {
   "cell_type": "code",
   "execution_count": 95,
   "id": "234b1edf",
   "metadata": {},
   "outputs": [
    {
     "data": {
      "text/html": [
       "<div>\n",
       "<style scoped>\n",
       "    .dataframe tbody tr th:only-of-type {\n",
       "        vertical-align: middle;\n",
       "    }\n",
       "\n",
       "    .dataframe tbody tr th {\n",
       "        vertical-align: top;\n",
       "    }\n",
       "\n",
       "    .dataframe thead th {\n",
       "        text-align: right;\n",
       "    }\n",
       "</style>\n",
       "<table border=\"1\" class=\"dataframe\">\n",
       "  <thead>\n",
       "    <tr style=\"text-align: right;\">\n",
       "      <th></th>\n",
       "      <th>link</th>\n",
       "      <th>funding_round_permalink</th>\n",
       "      <th>funding_round_type</th>\n",
       "      <th>funding_round_code</th>\n",
       "      <th>funded_at</th>\n",
       "      <th>raised_amount_usd</th>\n",
       "    </tr>\n",
       "  </thead>\n",
       "  <tbody>\n",
       "    <tr>\n",
       "      <th>29597</th>\n",
       "      <td>/ORGANIZATION/E-CÃBICA</td>\n",
       "      <td>/funding-round/8491f74869e4fe8ba9c378394f8fbdea</td>\n",
       "      <td>seed</td>\n",
       "      <td>NaN</td>\n",
       "      <td>1/2/2015</td>\n",
       "      <td>NaN</td>\n",
       "    </tr>\n",
       "    <tr>\n",
       "      <th>31863</th>\n",
       "      <td>/ORGANIZATION/ENERGYSTONE-GAMES-ÇΜÇ³Æ¸¸Æ</td>\n",
       "      <td>/funding-round/b89553f3d2279c5683ae93f45a21cfe0</td>\n",
       "      <td>seed</td>\n",
       "      <td>NaN</td>\n",
       "      <td>9/8/2014</td>\n",
       "      <td>NaN</td>\n",
       "    </tr>\n",
       "    <tr>\n",
       "      <th>45176</th>\n",
       "      <td>/ORGANIZATION/HUIZUCHE-COM-Æ Ç§ŸÈ½¦</td>\n",
       "      <td>/funding-round/8f8a32dbeeb0f831a78702f83af78a36</td>\n",
       "      <td>seed</td>\n",
       "      <td>NaN</td>\n",
       "      <td>18-09-2014</td>\n",
       "      <td>NaN</td>\n",
       "    </tr>\n",
       "    <tr>\n",
       "      <th>58473</th>\n",
       "      <td>/ORGANIZATION/MAGNET-TECH-Ç£Ç³Ç§Æ</td>\n",
       "      <td>/funding-round/8fc91fbb32bc95e97f151dd0cb4166bf</td>\n",
       "      <td>seed</td>\n",
       "      <td>NaN</td>\n",
       "      <td>16-08-2014</td>\n",
       "      <td>1625585.0</td>\n",
       "    </tr>\n",
       "    <tr>\n",
       "      <th>101036</th>\n",
       "      <td>/ORGANIZATION/TIPCAT-INTERACTIVE-Æ²ÈŸÄ¿¡Æ¯Ç...</td>\n",
       "      <td>/funding-round/41005928a1439cb2d706a43cb661f60f</td>\n",
       "      <td>seed</td>\n",
       "      <td>NaN</td>\n",
       "      <td>6/9/2010</td>\n",
       "      <td>NaN</td>\n",
       "    </tr>\n",
       "    <tr>\n",
       "      <th>109969</th>\n",
       "      <td>/ORGANIZATION/WEICHE-TECH-ÅÈ½¦Ç§Æ</td>\n",
       "      <td>/funding-round/f74e457f838b81fa0b29649740f186d8</td>\n",
       "      <td>venture</td>\n",
       "      <td>A</td>\n",
       "      <td>6/9/2015</td>\n",
       "      <td>NaN</td>\n",
       "    </tr>\n",
       "    <tr>\n",
       "      <th>113839</th>\n",
       "      <td>/ORGANIZATION/ZENGAME-Ç¦",
       "Æ¸¸Ç§Æ</td>\n",
       "      <td>/funding-round/6ba28fb4f3eadf5a9c6c81bc5dde6cdf</td>\n",
       "      <td>seed</td>\n",
       "      <td>NaN</td>\n",
       "      <td>17-07-2010</td>\n",
       "      <td>NaN</td>\n",
       "    </tr>\n",
       "  </tbody>\n",
       "</table>\n",
       "</div>"
      ],
      "text/plain": [
       "                                                     link  \\\n",
       "29597                             /ORGANIZATION/E-CÃBICA   \n",
       "31863        /ORGANIZATION/ENERGYSTONE-GAMES-ÇΜÇ³Æ¸¸Æ   \n",
       "45176                /ORGANIZATION/HUIZUCHE-COM-Æ Ç§ŸÈ½¦   \n",
       "58473              /ORGANIZATION/MAGNET-TECH-Ç£Ç³Ç§Æ   \n",
       "101036  /ORGANIZATION/TIPCAT-INTERACTIVE-Æ²ÈŸÄ¿¡Æ¯Ç...   \n",
       "109969             /ORGANIZATION/WEICHE-TECH-ÅÈ½¦Ç§Æ   \n",
       "113839                 /ORGANIZATION/ZENGAME-Ç¦\n",
       "Æ¸¸Ç§Æ   \n",
       "\n",
       "                                funding_round_permalink funding_round_type  \\\n",
       "29597   /funding-round/8491f74869e4fe8ba9c378394f8fbdea               seed   \n",
       "31863   /funding-round/b89553f3d2279c5683ae93f45a21cfe0               seed   \n",
       "45176   /funding-round/8f8a32dbeeb0f831a78702f83af78a36               seed   \n",
       "58473   /funding-round/8fc91fbb32bc95e97f151dd0cb4166bf               seed   \n",
       "101036  /funding-round/41005928a1439cb2d706a43cb661f60f               seed   \n",
       "109969  /funding-round/f74e457f838b81fa0b29649740f186d8            venture   \n",
       "113839  /funding-round/6ba28fb4f3eadf5a9c6c81bc5dde6cdf               seed   \n",
       "\n",
       "       funding_round_code   funded_at  raised_amount_usd  \n",
       "29597                 NaN    1/2/2015                NaN  \n",
       "31863                 NaN    9/8/2014                NaN  \n",
       "45176                 NaN  18-09-2014                NaN  \n",
       "58473                 NaN  16-08-2014          1625585.0  \n",
       "101036                NaN    6/9/2010                NaN  \n",
       "109969                  A    6/9/2015                NaN  \n",
       "113839                NaN  17-07-2010                NaN  "
      ]
     },
     "execution_count": 95,
     "metadata": {},
     "output_type": "execute_result"
    }
   ],
   "source": [
    "company_round_dataset[~company_round_dataset['link'].isin(company_dataset['round_link'])]"
   ]
  },
  {
   "cell_type": "markdown",
   "id": "b271bc8e",
   "metadata": {},
   "source": [
    "### Merging companies_dataset & round_dataset as Master_dataset"
   ]
  },
  {
   "cell_type": "code",
   "execution_count": 96,
   "id": "d4beff5f",
   "metadata": {},
   "outputs": [],
   "source": [
    "master_dataset = pd.merge(company_round_dataset, company_dataset, how = 'inner', left_on = 'link', right_on = 'round_link')"
   ]
  },
  {
   "cell_type": "code",
   "execution_count": 97,
   "id": "b67bc9b2",
   "metadata": {},
   "outputs": [
    {
     "data": {
      "text/plain": [
       "(114942, 16)"
      ]
     },
     "execution_count": 97,
     "metadata": {},
     "output_type": "execute_result"
    }
   ],
   "source": [
    "master_dataset.shape"
   ]
  },
  {
   "cell_type": "markdown",
   "id": "b774acb0",
   "metadata": {},
   "source": [
    "### removing permalink column from master_dataset"
   ]
  },
  {
   "cell_type": "code",
   "execution_count": 98,
   "id": "1c4075bd",
   "metadata": {},
   "outputs": [
    {
     "data": {
      "text/html": [
       "<div>\n",
       "<style scoped>\n",
       "    .dataframe tbody tr th:only-of-type {\n",
       "        vertical-align: middle;\n",
       "    }\n",
       "\n",
       "    .dataframe tbody tr th {\n",
       "        vertical-align: top;\n",
       "    }\n",
       "\n",
       "    .dataframe thead th {\n",
       "        text-align: right;\n",
       "    }\n",
       "</style>\n",
       "<table border=\"1\" class=\"dataframe\">\n",
       "  <thead>\n",
       "    <tr style=\"text-align: right;\">\n",
       "      <th></th>\n",
       "      <th>link</th>\n",
       "      <th>funding_round_permalink</th>\n",
       "      <th>funding_round_type</th>\n",
       "      <th>funding_round_code</th>\n",
       "      <th>funded_at</th>\n",
       "      <th>raised_amount_usd</th>\n",
       "      <th>name</th>\n",
       "      <th>homepage_url</th>\n",
       "      <th>category_list</th>\n",
       "      <th>status</th>\n",
       "      <th>country_code</th>\n",
       "      <th>state_code</th>\n",
       "      <th>region</th>\n",
       "      <th>city</th>\n",
       "      <th>founded_at</th>\n",
       "    </tr>\n",
       "  </thead>\n",
       "  <tbody>\n",
       "    <tr>\n",
       "      <th>0</th>\n",
       "      <td>/ORGANIZATION/-FAME</td>\n",
       "      <td>/funding-round/9a01d05418af9f794eebff7ace91f638</td>\n",
       "      <td>venture</td>\n",
       "      <td>B</td>\n",
       "      <td>5/1/2015</td>\n",
       "      <td>10000000.0</td>\n",
       "      <td>#fame</td>\n",
       "      <td>http://livfame.com</td>\n",
       "      <td>Media</td>\n",
       "      <td>operating</td>\n",
       "      <td>IND</td>\n",
       "      <td>16</td>\n",
       "      <td>Mumbai</td>\n",
       "      <td>Mumbai</td>\n",
       "      <td>NaN</td>\n",
       "    </tr>\n",
       "    <tr>\n",
       "      <th>1</th>\n",
       "      <td>/ORGANIZATION/-QOUNTER</td>\n",
       "      <td>/funding-round/22dacff496eb7acb2b901dec1dfe5633</td>\n",
       "      <td>venture</td>\n",
       "      <td>A</td>\n",
       "      <td>14-10-2014</td>\n",
       "      <td>NaN</td>\n",
       "      <td>:Qounter</td>\n",
       "      <td>http://www.qounter.com</td>\n",
       "      <td>Application Platforms|Real Time|Social Network...</td>\n",
       "      <td>operating</td>\n",
       "      <td>USA</td>\n",
       "      <td>DE</td>\n",
       "      <td>DE - Other</td>\n",
       "      <td>Delaware City</td>\n",
       "      <td>4/9/2014</td>\n",
       "    </tr>\n",
       "    <tr>\n",
       "      <th>2</th>\n",
       "      <td>/ORGANIZATION/-QOUNTER</td>\n",
       "      <td>/funding-round/b44fbb94153f6cdef13083530bb48030</td>\n",
       "      <td>seed</td>\n",
       "      <td>NaN</td>\n",
       "      <td>1/3/2014</td>\n",
       "      <td>700000.0</td>\n",
       "      <td>:Qounter</td>\n",
       "      <td>http://www.qounter.com</td>\n",
       "      <td>Application Platforms|Real Time|Social Network...</td>\n",
       "      <td>operating</td>\n",
       "      <td>USA</td>\n",
       "      <td>DE</td>\n",
       "      <td>DE - Other</td>\n",
       "      <td>Delaware City</td>\n",
       "      <td>4/9/2014</td>\n",
       "    </tr>\n",
       "    <tr>\n",
       "      <th>3</th>\n",
       "      <td>/ORGANIZATION/-THE-ONE-OF-THEM-INC-</td>\n",
       "      <td>/funding-round/650b8f704416801069bb178a1418776b</td>\n",
       "      <td>venture</td>\n",
       "      <td>B</td>\n",
       "      <td>30-01-2014</td>\n",
       "      <td>3406878.0</td>\n",
       "      <td>(THE) ONE of THEM,Inc.</td>\n",
       "      <td>http://oneofthem.jp</td>\n",
       "      <td>Apps|Games|Mobile</td>\n",
       "      <td>operating</td>\n",
       "      <td>NaN</td>\n",
       "      <td>NaN</td>\n",
       "      <td>NaN</td>\n",
       "      <td>NaN</td>\n",
       "      <td>NaN</td>\n",
       "    </tr>\n",
       "    <tr>\n",
       "      <th>4</th>\n",
       "      <td>/ORGANIZATION/0-6-COM</td>\n",
       "      <td>/funding-round/5727accaeaa57461bd22a9bdd945382d</td>\n",
       "      <td>venture</td>\n",
       "      <td>A</td>\n",
       "      <td>19-03-2008</td>\n",
       "      <td>2000000.0</td>\n",
       "      <td>0-6.com</td>\n",
       "      <td>http://www.0-6.com</td>\n",
       "      <td>Curated Web</td>\n",
       "      <td>operating</td>\n",
       "      <td>CHN</td>\n",
       "      <td>22</td>\n",
       "      <td>Beijing</td>\n",
       "      <td>Beijing</td>\n",
       "      <td>1/1/2007</td>\n",
       "    </tr>\n",
       "  </tbody>\n",
       "</table>\n",
       "</div>"
      ],
      "text/plain": [
       "                                  link  \\\n",
       "0                  /ORGANIZATION/-FAME   \n",
       "1               /ORGANIZATION/-QOUNTER   \n",
       "2               /ORGANIZATION/-QOUNTER   \n",
       "3  /ORGANIZATION/-THE-ONE-OF-THEM-INC-   \n",
       "4                /ORGANIZATION/0-6-COM   \n",
       "\n",
       "                           funding_round_permalink funding_round_type  \\\n",
       "0  /funding-round/9a01d05418af9f794eebff7ace91f638            venture   \n",
       "1  /funding-round/22dacff496eb7acb2b901dec1dfe5633            venture   \n",
       "2  /funding-round/b44fbb94153f6cdef13083530bb48030               seed   \n",
       "3  /funding-round/650b8f704416801069bb178a1418776b            venture   \n",
       "4  /funding-round/5727accaeaa57461bd22a9bdd945382d            venture   \n",
       "\n",
       "  funding_round_code   funded_at  raised_amount_usd                    name  \\\n",
       "0                  B    5/1/2015         10000000.0                   #fame   \n",
       "1                  A  14-10-2014                NaN                :Qounter   \n",
       "2                NaN    1/3/2014           700000.0                :Qounter   \n",
       "3                  B  30-01-2014          3406878.0  (THE) ONE of THEM,Inc.   \n",
       "4                  A  19-03-2008          2000000.0                 0-6.com   \n",
       "\n",
       "             homepage_url                                      category_list  \\\n",
       "0      http://livfame.com                                              Media   \n",
       "1  http://www.qounter.com  Application Platforms|Real Time|Social Network...   \n",
       "2  http://www.qounter.com  Application Platforms|Real Time|Social Network...   \n",
       "3     http://oneofthem.jp                                  Apps|Games|Mobile   \n",
       "4      http://www.0-6.com                                        Curated Web   \n",
       "\n",
       "      status country_code state_code      region           city founded_at  \n",
       "0  operating          IND         16      Mumbai         Mumbai        NaN  \n",
       "1  operating          USA         DE  DE - Other  Delaware City   4/9/2014  \n",
       "2  operating          USA         DE  DE - Other  Delaware City   4/9/2014  \n",
       "3  operating          NaN        NaN         NaN            NaN        NaN  \n",
       "4  operating          CHN         22     Beijing        Beijing   1/1/2007  "
      ]
     },
     "execution_count": 98,
     "metadata": {},
     "output_type": "execute_result"
    }
   ],
   "source": [
    "master_dataset = master_dataset.drop('round_link', axis = 1)\n",
    "master_dataset.head()"
   ]
  },
  {
   "cell_type": "code",
   "execution_count": 99,
   "id": "1d34cea8",
   "metadata": {},
   "outputs": [
    {
     "data": {
      "text/plain": [
       "link                           0\n",
       "funding_round_permalink        0\n",
       "funding_round_type             0\n",
       "funding_round_code         83803\n",
       "funded_at                      0\n",
       "raised_amount_usd          19984\n",
       "name                           1\n",
       "homepage_url                6132\n",
       "category_list               3407\n",
       "status                         0\n",
       "country_code                8671\n",
       "state_code                 10939\n",
       "region                     10160\n",
       "city                       10157\n",
       "founded_at                 20520\n",
       "dtype: int64"
      ]
     },
     "execution_count": 99,
     "metadata": {},
     "output_type": "execute_result"
    }
   ],
   "source": [
    "master_dataset.isnull().sum()"
   ]
  },
  {
   "cell_type": "code",
   "execution_count": 100,
   "id": "599cdf76",
   "metadata": {},
   "outputs": [],
   "source": [
    "master_dataset = master_dataset.rename({'funding_round_code': 'round_code_type','founded_at': 'place','raised_amount_usd':'invested_amount','funding_round_type':'type','country_code':'country','primary_category':\"primary\",'category_list':'categList'}, axis=1) \n",
    "routing=routing.rename({'category_list':'categList'}, axis=1)"
   ]
  },
  {
   "cell_type": "markdown",
   "id": "c51bdfcb",
   "metadata": {},
   "source": [
    "### looking for missing value percentage for every column "
   ]
  },
  {
   "cell_type": "code",
   "execution_count": 101,
   "id": "83e6e2cb",
   "metadata": {},
   "outputs": [
    {
     "data": {
      "text/plain": [
       "link                        0.00\n",
       "funding_round_permalink     0.00\n",
       "type                        0.00\n",
       "round_code_type            72.91\n",
       "funded_at                   0.00\n",
       "invested_amount            17.39\n",
       "name                        0.00\n",
       "homepage_url                5.33\n",
       "categList                   2.96\n",
       "status                      0.00\n",
       "country                     7.54\n",
       "state_code                  9.52\n",
       "region                      8.84\n",
       "city                        8.84\n",
       "place                      17.85\n",
       "dtype: float64"
      ]
     },
     "execution_count": 101,
     "metadata": {},
     "output_type": "execute_result"
    }
   ],
   "source": [
    "round(100*(master_dataset.isnull().sum()/len(master_dataset.index)) ,2)"
   ]
  },
  {
   "cell_type": "code",
   "execution_count": 102,
   "id": "ce0b7505",
   "metadata": {},
   "outputs": [
    {
     "data": {
      "text/plain": [
       "link                        0.00\n",
       "funding_round_permalink     0.00\n",
       "type                        0.00\n",
       "funded_at                   0.00\n",
       "invested_amount            17.39\n",
       "name                        0.00\n",
       "homepage_url                5.33\n",
       "categList                   2.96\n",
       "status                      0.00\n",
       "country                     7.54\n",
       "state_code                  9.52\n",
       "region                      8.84\n",
       "city                        8.84\n",
       "dtype: float64"
      ]
     },
     "execution_count": 102,
     "metadata": {},
     "output_type": "execute_result"
    }
   ],
   "source": [
    "master_dataset = master_dataset.drop(['round_code_type', 'place'], axis = 1)\n",
    "round(100*(master_dataset.isnull().sum()/len(master_dataset.index)) ,2)"
   ]
  },
  {
   "cell_type": "code",
   "execution_count": 103,
   "id": "58a2b9d2",
   "metadata": {},
   "outputs": [
    {
     "data": {
      "text/plain": [
       "link                       0.00\n",
       "funding_round_permalink    0.00\n",
       "type                       0.00\n",
       "funded_at                  0.00\n",
       "invested_amount            0.00\n",
       "name                       0.00\n",
       "homepage_url               4.56\n",
       "categList                  1.10\n",
       "status                     0.00\n",
       "country                    6.16\n",
       "state_code                 8.01\n",
       "region                     7.42\n",
       "city                       7.42\n",
       "dtype: float64"
      ]
     },
     "execution_count": 103,
     "metadata": {},
     "output_type": "execute_result"
    }
   ],
   "source": [
    "master_dataset.dropna(subset = ['invested_amount'],inplace = True)\n",
    "\n",
    "round(100*(master_dataset.isnull().sum()/len(master_dataset.index)) ,2)"
   ]
  },
  {
   "cell_type": "code",
   "execution_count": 104,
   "id": "c8ae4f5d",
   "metadata": {},
   "outputs": [
    {
     "name": "stdout",
     "output_type": "stream",
     "text": [
      "             type  invested_amount\n",
      "0           angel         400000.0\n",
      "1  private_equity       20000000.0\n",
      "2            seed         275000.0\n",
      "3         venture        5000000.0\n"
     ]
    }
   ],
   "source": [
    "funding_type = pd.DataFrame(master_dataset.where(master_dataset['type'].\n",
    "                                            isin(['seed','angel', 'venture','private_equity'])).\n",
    "                         groupby('type')['invested_amount'].median()).reset_index()\n",
    "print(funding_type)"
   ]
  },
  {
   "cell_type": "code",
   "execution_count": 105,
   "id": "794e83d1",
   "metadata": {},
   "outputs": [
    {
     "data": {
      "text/html": [
       "<div>\n",
       "<style scoped>\n",
       "    .dataframe tbody tr th:only-of-type {\n",
       "        vertical-align: middle;\n",
       "    }\n",
       "\n",
       "    .dataframe tbody tr th {\n",
       "        vertical-align: top;\n",
       "    }\n",
       "\n",
       "    .dataframe thead th {\n",
       "        text-align: right;\n",
       "    }\n",
       "</style>\n",
       "<table border=\"1\" class=\"dataframe\">\n",
       "  <thead>\n",
       "    <tr style=\"text-align: right;\">\n",
       "      <th></th>\n",
       "      <th>type</th>\n",
       "      <th>invested_amount</th>\n",
       "    </tr>\n",
       "  </thead>\n",
       "  <tbody>\n",
       "    <tr>\n",
       "      <th>3</th>\n",
       "      <td>venture</td>\n",
       "      <td>5000000.0</td>\n",
       "    </tr>\n",
       "  </tbody>\n",
       "</table>\n",
       "</div>"
      ],
      "text/plain": [
       "      type  invested_amount\n",
       "3  venture        5000000.0"
      ]
     },
     "execution_count": 105,
     "metadata": {},
     "output_type": "execute_result"
    }
   ],
   "source": [
    "funding_type.loc[(funding_type['invested_amount'] >= 5000000.00) &\n",
    "                        (funding_type['invested_amount'] <= 15000000.00)]"
   ]
  },
  {
   "cell_type": "code",
   "execution_count": 106,
   "id": "bb660105",
   "metadata": {},
   "outputs": [],
   "source": [
    "top_funding_frame = master_dataset[master_dataset['type'] == 'venture']\n"
   ]
  },
  {
   "cell_type": "markdown",
   "id": "8e906612",
   "metadata": {},
   "source": [
    "### country analysis"
   ]
  },
  {
   "cell_type": "code",
   "execution_count": 107,
   "id": "0df2b8aa",
   "metadata": {},
   "outputs": [
    {
     "data": {
      "text/html": [
       "<div>\n",
       "<style scoped>\n",
       "    .dataframe tbody tr th:only-of-type {\n",
       "        vertical-align: middle;\n",
       "    }\n",
       "\n",
       "    .dataframe tbody tr th {\n",
       "        vertical-align: top;\n",
       "    }\n",
       "\n",
       "    .dataframe thead th {\n",
       "        text-align: right;\n",
       "    }\n",
       "</style>\n",
       "<table border=\"1\" class=\"dataframe\">\n",
       "  <thead>\n",
       "    <tr style=\"text-align: right;\">\n",
       "      <th></th>\n",
       "      <th>country</th>\n",
       "      <th>invested_amount</th>\n",
       "    </tr>\n",
       "  </thead>\n",
       "  <tbody>\n",
       "    <tr>\n",
       "      <th>0</th>\n",
       "      <td>USA</td>\n",
       "      <td>4.225108e+11</td>\n",
       "    </tr>\n",
       "    <tr>\n",
       "      <th>1</th>\n",
       "      <td>CHN</td>\n",
       "      <td>3.983542e+10</td>\n",
       "    </tr>\n",
       "    <tr>\n",
       "      <th>2</th>\n",
       "      <td>GBR</td>\n",
       "      <td>2.024563e+10</td>\n",
       "    </tr>\n",
       "    <tr>\n",
       "      <th>3</th>\n",
       "      <td>IND</td>\n",
       "      <td>1.439186e+10</td>\n",
       "    </tr>\n",
       "    <tr>\n",
       "      <th>4</th>\n",
       "      <td>CAN</td>\n",
       "      <td>9.583332e+09</td>\n",
       "    </tr>\n",
       "  </tbody>\n",
       "</table>\n",
       "</div>"
      ],
      "text/plain": [
       "  country  invested_amount\n",
       "0     USA     4.225108e+11\n",
       "1     CHN     3.983542e+10\n",
       "2     GBR     2.024563e+10\n",
       "3     IND     1.439186e+10\n",
       "4     CAN     9.583332e+09"
      ]
     },
     "execution_count": 107,
     "metadata": {},
     "output_type": "execute_result"
    }
   ],
   "source": [
    "top5_country=pd.DataFrame(top_funding_frame.groupby('country')['invested_amount'].sum().sort_values(ascending = False).head(5))\n",
    "top5_country.reset_index(inplace = True)\n",
    "top5_country"
   ]
  },
  {
   "cell_type": "code",
   "execution_count": 108,
   "id": "111f943a",
   "metadata": {},
   "outputs": [
    {
     "data": {
      "text/html": [
       "<div>\n",
       "<style scoped>\n",
       "    .dataframe tbody tr th:only-of-type {\n",
       "        vertical-align: middle;\n",
       "    }\n",
       "\n",
       "    .dataframe tbody tr th {\n",
       "        vertical-align: top;\n",
       "    }\n",
       "\n",
       "    .dataframe thead th {\n",
       "        text-align: right;\n",
       "    }\n",
       "</style>\n",
       "<table border=\"1\" class=\"dataframe\">\n",
       "  <thead>\n",
       "    <tr style=\"text-align: right;\">\n",
       "      <th></th>\n",
       "      <th>link</th>\n",
       "      <th>funding_round_permalink</th>\n",
       "      <th>type</th>\n",
       "      <th>funded_at</th>\n",
       "      <th>invested_amount</th>\n",
       "      <th>name</th>\n",
       "      <th>homepage_url</th>\n",
       "      <th>categList</th>\n",
       "      <th>status</th>\n",
       "      <th>country</th>\n",
       "      <th>state_code</th>\n",
       "      <th>region</th>\n",
       "      <th>city</th>\n",
       "    </tr>\n",
       "  </thead>\n",
       "  <tbody>\n",
       "    <tr>\n",
       "      <th>0</th>\n",
       "      <td>/ORGANIZATION/-FAME</td>\n",
       "      <td>/funding-round/9a01d05418af9f794eebff7ace91f638</td>\n",
       "      <td>venture</td>\n",
       "      <td>5/1/2015</td>\n",
       "      <td>10000000.0</td>\n",
       "      <td>#fame</td>\n",
       "      <td>http://livfame.com</td>\n",
       "      <td>Media</td>\n",
       "      <td>operating</td>\n",
       "      <td>IND</td>\n",
       "      <td>16</td>\n",
       "      <td>Mumbai</td>\n",
       "      <td>Mumbai</td>\n",
       "    </tr>\n",
       "    <tr>\n",
       "      <th>3</th>\n",
       "      <td>/ORGANIZATION/-THE-ONE-OF-THEM-INC-</td>\n",
       "      <td>/funding-round/650b8f704416801069bb178a1418776b</td>\n",
       "      <td>venture</td>\n",
       "      <td>30-01-2014</td>\n",
       "      <td>3406878.0</td>\n",
       "      <td>(THE) ONE of THEM,Inc.</td>\n",
       "      <td>http://oneofthem.jp</td>\n",
       "      <td>Apps|Games|Mobile</td>\n",
       "      <td>operating</td>\n",
       "      <td>NaN</td>\n",
       "      <td>NaN</td>\n",
       "      <td>NaN</td>\n",
       "      <td>NaN</td>\n",
       "    </tr>\n",
       "    <tr>\n",
       "      <th>4</th>\n",
       "      <td>/ORGANIZATION/0-6-COM</td>\n",
       "      <td>/funding-round/5727accaeaa57461bd22a9bdd945382d</td>\n",
       "      <td>venture</td>\n",
       "      <td>19-03-2008</td>\n",
       "      <td>2000000.0</td>\n",
       "      <td>0-6.com</td>\n",
       "      <td>http://www.0-6.com</td>\n",
       "      <td>Curated Web</td>\n",
       "      <td>operating</td>\n",
       "      <td>CHN</td>\n",
       "      <td>22</td>\n",
       "      <td>Beijing</td>\n",
       "      <td>Beijing</td>\n",
       "    </tr>\n",
       "    <tr>\n",
       "      <th>8</th>\n",
       "      <td>/ORGANIZATION/0NDINE-BIOMEDICAL-INC</td>\n",
       "      <td>/funding-round/954b9499724b946ad8c396a57a5f3b72</td>\n",
       "      <td>venture</td>\n",
       "      <td>21-12-2009</td>\n",
       "      <td>719491.0</td>\n",
       "      <td>Ondine Biomedical Inc.</td>\n",
       "      <td>http://ondinebio.com</td>\n",
       "      <td>Biotechnology</td>\n",
       "      <td>operating</td>\n",
       "      <td>CAN</td>\n",
       "      <td>BC</td>\n",
       "      <td>Vancouver</td>\n",
       "      <td>Vancouver</td>\n",
       "    </tr>\n",
       "    <tr>\n",
       "      <th>10</th>\n",
       "      <td>/ORGANIZATION/0XDATA</td>\n",
       "      <td>/funding-round/3bb2ee4a2d89251a10aaa735b1180e44</td>\n",
       "      <td>venture</td>\n",
       "      <td>9/11/2015</td>\n",
       "      <td>20000000.0</td>\n",
       "      <td>H2O.ai</td>\n",
       "      <td>http://h2o.ai/</td>\n",
       "      <td>Analytics</td>\n",
       "      <td>operating</td>\n",
       "      <td>USA</td>\n",
       "      <td>CA</td>\n",
       "      <td>SF Bay Area</td>\n",
       "      <td>Mountain View</td>\n",
       "    </tr>\n",
       "  </tbody>\n",
       "</table>\n",
       "</div>"
      ],
      "text/plain": [
       "                                   link  \\\n",
       "0                   /ORGANIZATION/-FAME   \n",
       "3   /ORGANIZATION/-THE-ONE-OF-THEM-INC-   \n",
       "4                 /ORGANIZATION/0-6-COM   \n",
       "8   /ORGANIZATION/0NDINE-BIOMEDICAL-INC   \n",
       "10                 /ORGANIZATION/0XDATA   \n",
       "\n",
       "                            funding_round_permalink     type   funded_at  \\\n",
       "0   /funding-round/9a01d05418af9f794eebff7ace91f638  venture    5/1/2015   \n",
       "3   /funding-round/650b8f704416801069bb178a1418776b  venture  30-01-2014   \n",
       "4   /funding-round/5727accaeaa57461bd22a9bdd945382d  venture  19-03-2008   \n",
       "8   /funding-round/954b9499724b946ad8c396a57a5f3b72  venture  21-12-2009   \n",
       "10  /funding-round/3bb2ee4a2d89251a10aaa735b1180e44  venture   9/11/2015   \n",
       "\n",
       "    invested_amount                    name          homepage_url  \\\n",
       "0        10000000.0                   #fame    http://livfame.com   \n",
       "3         3406878.0  (THE) ONE of THEM,Inc.   http://oneofthem.jp   \n",
       "4         2000000.0                 0-6.com    http://www.0-6.com   \n",
       "8          719491.0  Ondine Biomedical Inc.  http://ondinebio.com   \n",
       "10       20000000.0                  H2O.ai        http://h2o.ai/   \n",
       "\n",
       "            categList     status country state_code       region  \\\n",
       "0               Media  operating     IND         16       Mumbai   \n",
       "3   Apps|Games|Mobile  operating     NaN        NaN          NaN   \n",
       "4         Curated Web  operating     CHN         22      Beijing   \n",
       "8       Biotechnology  operating     CAN         BC    Vancouver   \n",
       "10          Analytics  operating     USA         CA  SF Bay Area   \n",
       "\n",
       "             city  \n",
       "0          Mumbai  \n",
       "3             NaN  \n",
       "4         Beijing  \n",
       "8       Vancouver  \n",
       "10  Mountain View  "
      ]
     },
     "execution_count": 108,
     "metadata": {},
     "output_type": "execute_result"
    }
   ],
   "source": [
    "top_funding_frame.head()"
   ]
  },
  {
   "cell_type": "code",
   "execution_count": null,
   "id": "e4d5940a",
   "metadata": {},
   "outputs": [],
   "source": []
  },
  {
   "cell_type": "markdown",
   "id": "aeb51b1f",
   "metadata": {},
   "source": [
    "### SectorAnalysis"
   ]
  },
  {
   "cell_type": "code",
   "execution_count": 109,
   "id": "fb16d1c6",
   "metadata": {},
   "outputs": [
    {
     "data": {
      "text/plain": [
       "Biotechnology                                            5512\n",
       "Software                                                 4070\n",
       "Health Care                                              1393\n",
       "Clean Technology                                         1320\n",
       "Enterprise Software                                      1185\n",
       "                                                         ... \n",
       "Data Centers|Information Technology|Internet|Services       1\n",
       "Market Research|Semantic Search|Video                       1\n",
       "Assisted Living|Elder Care|Health Care                      1\n",
       "Recreation|Sports                                           1\n",
       "Diagnostics|Investment Management|Services                  1\n",
       "Name: categList, Length: 10557, dtype: int64"
      ]
     },
     "execution_count": 109,
     "metadata": {},
     "output_type": "execute_result"
    }
   ],
   "source": [
    "top_funding_frame['categList'].value_counts()"
   ]
  },
  {
   "cell_type": "code",
   "execution_count": 110,
   "id": "973ffa16",
   "metadata": {},
   "outputs": [
    {
     "data": {
      "text/plain": [
       "Biotechnology           6942\n",
       "Software                4214\n",
       "Advertising             2273\n",
       "Health Care             1845\n",
       "Enterprise Software     1803\n",
       "                        ... \n",
       "Enterprise Hardware        1\n",
       "High Schools               1\n",
       "High School Students       1\n",
       "Mens Specific              1\n",
       "Task Management            1\n",
       "Name: primary, Length: 607, dtype: int64"
      ]
     },
     "execution_count": 110,
     "metadata": {},
     "output_type": "execute_result"
    }
   ],
   "source": [
    "top_funding_frame['primary'] = top_funding_frame['categList'].str.split('|').str[0]\n",
    "\n",
    "top_funding_frame['primary'].value_counts()"
   ]
  },
  {
   "cell_type": "code",
   "execution_count": 111,
   "id": "3bcea3c6",
   "metadata": {},
   "outputs": [
    {
     "data": {
      "text/html": [
       "<div>\n",
       "<style scoped>\n",
       "    .dataframe tbody tr th:only-of-type {\n",
       "        vertical-align: middle;\n",
       "    }\n",
       "\n",
       "    .dataframe tbody tr th {\n",
       "        vertical-align: top;\n",
       "    }\n",
       "\n",
       "    .dataframe thead th {\n",
       "        text-align: right;\n",
       "    }\n",
       "</style>\n",
       "<table border=\"1\" class=\"dataframe\">\n",
       "  <thead>\n",
       "    <tr style=\"text-align: right;\">\n",
       "      <th></th>\n",
       "      <th>categList</th>\n",
       "      <th>Automotive &amp; Sports</th>\n",
       "      <th>Cleantech / Semiconductors</th>\n",
       "      <th>Entertainment</th>\n",
       "      <th>Health</th>\n",
       "      <th>Manufacturing</th>\n",
       "      <th>News, Search and Messaging</th>\n",
       "      <th>Others</th>\n",
       "      <th>Social, Finance, Analytics, Advertising</th>\n",
       "    </tr>\n",
       "  </thead>\n",
       "  <tbody>\n",
       "    <tr>\n",
       "      <th>1</th>\n",
       "      <td>3D</td>\n",
       "      <td>0</td>\n",
       "      <td>0</td>\n",
       "      <td>0</td>\n",
       "      <td>0</td>\n",
       "      <td>1</td>\n",
       "      <td>0</td>\n",
       "      <td>0</td>\n",
       "      <td>0</td>\n",
       "    </tr>\n",
       "    <tr>\n",
       "      <th>2</th>\n",
       "      <td>3D Printing</td>\n",
       "      <td>0</td>\n",
       "      <td>0</td>\n",
       "      <td>0</td>\n",
       "      <td>0</td>\n",
       "      <td>1</td>\n",
       "      <td>0</td>\n",
       "      <td>0</td>\n",
       "      <td>0</td>\n",
       "    </tr>\n",
       "    <tr>\n",
       "      <th>3</th>\n",
       "      <td>3D Technology</td>\n",
       "      <td>0</td>\n",
       "      <td>0</td>\n",
       "      <td>0</td>\n",
       "      <td>0</td>\n",
       "      <td>1</td>\n",
       "      <td>0</td>\n",
       "      <td>0</td>\n",
       "      <td>0</td>\n",
       "    </tr>\n",
       "    <tr>\n",
       "      <th>4</th>\n",
       "      <td>Accounting</td>\n",
       "      <td>0</td>\n",
       "      <td>0</td>\n",
       "      <td>0</td>\n",
       "      <td>0</td>\n",
       "      <td>0</td>\n",
       "      <td>0</td>\n",
       "      <td>0</td>\n",
       "      <td>1</td>\n",
       "    </tr>\n",
       "    <tr>\n",
       "      <th>5</th>\n",
       "      <td>Active Lifestyle</td>\n",
       "      <td>0</td>\n",
       "      <td>0</td>\n",
       "      <td>0</td>\n",
       "      <td>1</td>\n",
       "      <td>0</td>\n",
       "      <td>0</td>\n",
       "      <td>0</td>\n",
       "      <td>0</td>\n",
       "    </tr>\n",
       "  </tbody>\n",
       "</table>\n",
       "</div>"
      ],
      "text/plain": [
       "          categList  Automotive & Sports  Cleantech / Semiconductors  \\\n",
       "1                3D                    0                           0   \n",
       "2       3D Printing                    0                           0   \n",
       "3     3D Technology                    0                           0   \n",
       "4        Accounting                    0                           0   \n",
       "5  Active Lifestyle                    0                           0   \n",
       "\n",
       "   Entertainment  Health  Manufacturing  News, Search and Messaging  Others  \\\n",
       "1              0       0              1                           0       0   \n",
       "2              0       0              1                           0       0   \n",
       "3              0       0              1                           0       0   \n",
       "4              0       0              0                           0       0   \n",
       "5              0       1              0                           0       0   \n",
       "\n",
       "   Social, Finance, Analytics, Advertising  \n",
       "1                                        0  \n",
       "2                                        0  \n",
       "3                                        0  \n",
       "4                                        1  \n",
       "5                                        0  "
      ]
     },
     "execution_count": 111,
     "metadata": {},
     "output_type": "execute_result"
    }
   ],
   "source": [
    "routing['Blanks'].value_counts()\n",
    "routing = routing.dropna()\n",
    "\n",
    "routing = routing.drop('Blanks', axis =1)\n",
    "routing.head()\n"
   ]
  },
  {
   "cell_type": "code",
   "execution_count": 112,
   "id": "bce3804d",
   "metadata": {},
   "outputs": [],
   "source": [
    "routing['categList'] = routing['categList'].apply(lambda x : x.replace('0','na'))\n"
   ]
  },
  {
   "cell_type": "code",
   "execution_count": 113,
   "id": "0601571e",
   "metadata": {},
   "outputs": [],
   "source": [
    "routing = pd.melt(routing, id_vars = 'categList', value_vars = ['Social, Finance, Analytics, Advertising','Others','Entertainment','Health','Cleantech / Semiconductors','Manufacturing','News, Search and Messaging','Automotive & Sports'], var_name = 'main_sector')"
   ]
  },
  {
   "cell_type": "code",
   "execution_count": 114,
   "id": "e0d1170a",
   "metadata": {},
   "outputs": [
    {
     "data": {
      "text/html": [
       "<div>\n",
       "<style scoped>\n",
       "    .dataframe tbody tr th:only-of-type {\n",
       "        vertical-align: middle;\n",
       "    }\n",
       "\n",
       "    .dataframe tbody tr th {\n",
       "        vertical-align: top;\n",
       "    }\n",
       "\n",
       "    .dataframe thead th {\n",
       "        text-align: right;\n",
       "    }\n",
       "</style>\n",
       "<table border=\"1\" class=\"dataframe\">\n",
       "  <thead>\n",
       "    <tr style=\"text-align: right;\">\n",
       "      <th></th>\n",
       "      <th>categList</th>\n",
       "      <th>main_sector</th>\n",
       "      <th>value</th>\n",
       "    </tr>\n",
       "  </thead>\n",
       "  <tbody>\n",
       "    <tr>\n",
       "      <th>3</th>\n",
       "      <td>Accounting</td>\n",
       "      <td>Social, Finance, Analytics, Advertising</td>\n",
       "      <td>1</td>\n",
       "    </tr>\n",
       "    <tr>\n",
       "      <th>5</th>\n",
       "      <td>Ad Targeting</td>\n",
       "      <td>Social, Finance, Analytics, Advertising</td>\n",
       "      <td>1</td>\n",
       "    </tr>\n",
       "    <tr>\n",
       "      <th>8</th>\n",
       "      <td>Advertising</td>\n",
       "      <td>Social, Finance, Analytics, Advertising</td>\n",
       "      <td>1</td>\n",
       "    </tr>\n",
       "    <tr>\n",
       "      <th>9</th>\n",
       "      <td>Advertising Exchanges</td>\n",
       "      <td>Social, Finance, Analytics, Advertising</td>\n",
       "      <td>1</td>\n",
       "    </tr>\n",
       "    <tr>\n",
       "      <th>10</th>\n",
       "      <td>Advertising Networks</td>\n",
       "      <td>Social, Finance, Analytics, Advertising</td>\n",
       "      <td>1</td>\n",
       "    </tr>\n",
       "  </tbody>\n",
       "</table>\n",
       "</div>"
      ],
      "text/plain": [
       "                categList                              main_sector  value\n",
       "3              Accounting  Social, Finance, Analytics, Advertising      1\n",
       "5            Ad Targeting  Social, Finance, Analytics, Advertising      1\n",
       "8             Advertising  Social, Finance, Analytics, Advertising      1\n",
       "9   Advertising Exchanges  Social, Finance, Analytics, Advertising      1\n",
       "10   Advertising Networks  Social, Finance, Analytics, Advertising      1"
      ]
     },
     "execution_count": 114,
     "metadata": {},
     "output_type": "execute_result"
    }
   ],
   "source": [
    "routing.head()\n",
    "routing = routing[routing.value==1]\n",
    "routing.head()"
   ]
  },
  {
   "cell_type": "code",
   "execution_count": 115,
   "id": "2c8d1f2b",
   "metadata": {},
   "outputs": [
    {
     "data": {
      "text/plain": [
       "(687, 2)"
      ]
     },
     "execution_count": 115,
     "metadata": {},
     "output_type": "execute_result"
    }
   ],
   "source": [
    "routing = routing.drop('value', axis = 1)\n",
    "routing.shape"
   ]
  },
  {
   "cell_type": "code",
   "execution_count": 116,
   "id": "f9acdaac",
   "metadata": {},
   "outputs": [],
   "source": [
    "venture_sector_frame = pd.merge(top_funding_frame, routing, how = 'inner', left_on = 'primary', right_on = 'categList')"
   ]
  },
  {
   "cell_type": "code",
   "execution_count": 117,
   "id": "e4956905",
   "metadata": {},
   "outputs": [
    {
     "data": {
      "text/html": [
       "<div>\n",
       "<style scoped>\n",
       "    .dataframe tbody tr th:only-of-type {\n",
       "        vertical-align: middle;\n",
       "    }\n",
       "\n",
       "    .dataframe tbody tr th {\n",
       "        vertical-align: top;\n",
       "    }\n",
       "\n",
       "    .dataframe thead th {\n",
       "        text-align: right;\n",
       "    }\n",
       "</style>\n",
       "<table border=\"1\" class=\"dataframe\">\n",
       "  <thead>\n",
       "    <tr style=\"text-align: right;\">\n",
       "      <th></th>\n",
       "      <th>link</th>\n",
       "      <th>funding_round_permalink</th>\n",
       "      <th>type</th>\n",
       "      <th>funded_at</th>\n",
       "      <th>invested_amount</th>\n",
       "      <th>name</th>\n",
       "      <th>homepage_url</th>\n",
       "      <th>categList_x</th>\n",
       "      <th>status</th>\n",
       "      <th>country</th>\n",
       "      <th>state_code</th>\n",
       "      <th>region</th>\n",
       "      <th>city</th>\n",
       "      <th>primary</th>\n",
       "      <th>categList_y</th>\n",
       "      <th>main_sector</th>\n",
       "    </tr>\n",
       "  </thead>\n",
       "  <tbody>\n",
       "    <tr>\n",
       "      <th>0</th>\n",
       "      <td>/ORGANIZATION/-FAME</td>\n",
       "      <td>/funding-round/9a01d05418af9f794eebff7ace91f638</td>\n",
       "      <td>venture</td>\n",
       "      <td>5/1/2015</td>\n",
       "      <td>10000000.0</td>\n",
       "      <td>#fame</td>\n",
       "      <td>http://livfame.com</td>\n",
       "      <td>Media</td>\n",
       "      <td>operating</td>\n",
       "      <td>IND</td>\n",
       "      <td>16</td>\n",
       "      <td>Mumbai</td>\n",
       "      <td>Mumbai</td>\n",
       "      <td>Media</td>\n",
       "      <td>Media</td>\n",
       "      <td>Entertainment</td>\n",
       "    </tr>\n",
       "    <tr>\n",
       "      <th>1</th>\n",
       "      <td>/ORGANIZATION/90MIN</td>\n",
       "      <td>/funding-round/21a2cbf6f2fb2a1c2a61e04bf930dfe6</td>\n",
       "      <td>venture</td>\n",
       "      <td>6/10/2015</td>\n",
       "      <td>15000000.0</td>\n",
       "      <td>90min</td>\n",
       "      <td>http://www.90min.com</td>\n",
       "      <td>Media|News|Publishing|Soccer|Sports</td>\n",
       "      <td>operating</td>\n",
       "      <td>GBR</td>\n",
       "      <td>H9</td>\n",
       "      <td>London</td>\n",
       "      <td>London</td>\n",
       "      <td>Media</td>\n",
       "      <td>Media</td>\n",
       "      <td>Entertainment</td>\n",
       "    </tr>\n",
       "    <tr>\n",
       "      <th>2</th>\n",
       "      <td>/ORGANIZATION/90MIN</td>\n",
       "      <td>/funding-round/bd626ed022f5c66574b1afe234f3c90d</td>\n",
       "      <td>venture</td>\n",
       "      <td>7/5/2013</td>\n",
       "      <td>5800000.0</td>\n",
       "      <td>90min</td>\n",
       "      <td>http://www.90min.com</td>\n",
       "      <td>Media|News|Publishing|Soccer|Sports</td>\n",
       "      <td>operating</td>\n",
       "      <td>GBR</td>\n",
       "      <td>H9</td>\n",
       "      <td>London</td>\n",
       "      <td>London</td>\n",
       "      <td>Media</td>\n",
       "      <td>Media</td>\n",
       "      <td>Entertainment</td>\n",
       "    </tr>\n",
       "    <tr>\n",
       "      <th>3</th>\n",
       "      <td>/ORGANIZATION/90MIN</td>\n",
       "      <td>/funding-round/fd4b15e8c97ee2ffc0acccdbe1a98810</td>\n",
       "      <td>venture</td>\n",
       "      <td>26-03-2014</td>\n",
       "      <td>18000000.0</td>\n",
       "      <td>90min</td>\n",
       "      <td>http://www.90min.com</td>\n",
       "      <td>Media|News|Publishing|Soccer|Sports</td>\n",
       "      <td>operating</td>\n",
       "      <td>GBR</td>\n",
       "      <td>H9</td>\n",
       "      <td>London</td>\n",
       "      <td>London</td>\n",
       "      <td>Media</td>\n",
       "      <td>Media</td>\n",
       "      <td>Entertainment</td>\n",
       "    </tr>\n",
       "    <tr>\n",
       "      <th>4</th>\n",
       "      <td>/ORGANIZATION/ALL-DEF-DIGITAL</td>\n",
       "      <td>/funding-round/452a2342fe720285c3b92e9bd927d9ba</td>\n",
       "      <td>venture</td>\n",
       "      <td>6/8/2014</td>\n",
       "      <td>5000000.0</td>\n",
       "      <td>All Def Digital</td>\n",
       "      <td>http://alldefdigital.com</td>\n",
       "      <td>Media</td>\n",
       "      <td>operating</td>\n",
       "      <td>USA</td>\n",
       "      <td>CA</td>\n",
       "      <td>Los Angeles</td>\n",
       "      <td>Los Angeles</td>\n",
       "      <td>Media</td>\n",
       "      <td>Media</td>\n",
       "      <td>Entertainment</td>\n",
       "    </tr>\n",
       "  </tbody>\n",
       "</table>\n",
       "</div>"
      ],
      "text/plain": [
       "                            link  \\\n",
       "0            /ORGANIZATION/-FAME   \n",
       "1            /ORGANIZATION/90MIN   \n",
       "2            /ORGANIZATION/90MIN   \n",
       "3            /ORGANIZATION/90MIN   \n",
       "4  /ORGANIZATION/ALL-DEF-DIGITAL   \n",
       "\n",
       "                           funding_round_permalink     type   funded_at  \\\n",
       "0  /funding-round/9a01d05418af9f794eebff7ace91f638  venture    5/1/2015   \n",
       "1  /funding-round/21a2cbf6f2fb2a1c2a61e04bf930dfe6  venture   6/10/2015   \n",
       "2  /funding-round/bd626ed022f5c66574b1afe234f3c90d  venture    7/5/2013   \n",
       "3  /funding-round/fd4b15e8c97ee2ffc0acccdbe1a98810  venture  26-03-2014   \n",
       "4  /funding-round/452a2342fe720285c3b92e9bd927d9ba  venture    6/8/2014   \n",
       "\n",
       "   invested_amount             name              homepage_url  \\\n",
       "0       10000000.0            #fame        http://livfame.com   \n",
       "1       15000000.0            90min      http://www.90min.com   \n",
       "2        5800000.0            90min      http://www.90min.com   \n",
       "3       18000000.0            90min      http://www.90min.com   \n",
       "4        5000000.0  All Def Digital  http://alldefdigital.com   \n",
       "\n",
       "                           categList_x     status country state_code  \\\n",
       "0                                Media  operating     IND         16   \n",
       "1  Media|News|Publishing|Soccer|Sports  operating     GBR         H9   \n",
       "2  Media|News|Publishing|Soccer|Sports  operating     GBR         H9   \n",
       "3  Media|News|Publishing|Soccer|Sports  operating     GBR         H9   \n",
       "4                                Media  operating     USA         CA   \n",
       "\n",
       "        region         city primary categList_y    main_sector  \n",
       "0       Mumbai       Mumbai   Media       Media  Entertainment  \n",
       "1       London       London   Media       Media  Entertainment  \n",
       "2       London       London   Media       Media  Entertainment  \n",
       "3       London       London   Media       Media  Entertainment  \n",
       "4  Los Angeles  Los Angeles   Media       Media  Entertainment  "
      ]
     },
     "execution_count": 117,
     "metadata": {},
     "output_type": "execute_result"
    }
   ],
   "source": [
    "venture_sector_frame.head()"
   ]
  },
  {
   "cell_type": "code",
   "execution_count": 118,
   "id": "aa2961c6",
   "metadata": {},
   "outputs": [],
   "source": [
    "venture_sector_frame = venture_sector_frame.drop('categList_y', axis = 1)"
   ]
  },
  {
   "cell_type": "code",
   "execution_count": 119,
   "id": "76c03b57",
   "metadata": {},
   "outputs": [
    {
     "data": {
      "text/html": [
       "<div>\n",
       "<style scoped>\n",
       "    .dataframe tbody tr th:only-of-type {\n",
       "        vertical-align: middle;\n",
       "    }\n",
       "\n",
       "    .dataframe tbody tr th {\n",
       "        vertical-align: top;\n",
       "    }\n",
       "\n",
       "    .dataframe thead th {\n",
       "        text-align: right;\n",
       "    }\n",
       "</style>\n",
       "<table border=\"1\" class=\"dataframe\">\n",
       "  <thead>\n",
       "    <tr style=\"text-align: right;\">\n",
       "      <th></th>\n",
       "      <th>link</th>\n",
       "      <th>funding_round_permalink</th>\n",
       "      <th>type</th>\n",
       "      <th>funded_at</th>\n",
       "      <th>invested_amount</th>\n",
       "      <th>name</th>\n",
       "      <th>homepage_url</th>\n",
       "      <th>category_list</th>\n",
       "      <th>status</th>\n",
       "      <th>country</th>\n",
       "      <th>state_code</th>\n",
       "      <th>region</th>\n",
       "      <th>city</th>\n",
       "      <th>primary</th>\n",
       "      <th>main_sector</th>\n",
       "    </tr>\n",
       "  </thead>\n",
       "  <tbody>\n",
       "    <tr>\n",
       "      <th>0</th>\n",
       "      <td>/ORGANIZATION/-FAME</td>\n",
       "      <td>/funding-round/9a01d05418af9f794eebff7ace91f638</td>\n",
       "      <td>venture</td>\n",
       "      <td>5/1/2015</td>\n",
       "      <td>10000000.0</td>\n",
       "      <td>#fame</td>\n",
       "      <td>http://livfame.com</td>\n",
       "      <td>Media</td>\n",
       "      <td>operating</td>\n",
       "      <td>IND</td>\n",
       "      <td>16</td>\n",
       "      <td>Mumbai</td>\n",
       "      <td>Mumbai</td>\n",
       "      <td>Media</td>\n",
       "      <td>Entertainment</td>\n",
       "    </tr>\n",
       "    <tr>\n",
       "      <th>1</th>\n",
       "      <td>/ORGANIZATION/90MIN</td>\n",
       "      <td>/funding-round/21a2cbf6f2fb2a1c2a61e04bf930dfe6</td>\n",
       "      <td>venture</td>\n",
       "      <td>6/10/2015</td>\n",
       "      <td>15000000.0</td>\n",
       "      <td>90min</td>\n",
       "      <td>http://www.90min.com</td>\n",
       "      <td>Media|News|Publishing|Soccer|Sports</td>\n",
       "      <td>operating</td>\n",
       "      <td>GBR</td>\n",
       "      <td>H9</td>\n",
       "      <td>London</td>\n",
       "      <td>London</td>\n",
       "      <td>Media</td>\n",
       "      <td>Entertainment</td>\n",
       "    </tr>\n",
       "    <tr>\n",
       "      <th>2</th>\n",
       "      <td>/ORGANIZATION/90MIN</td>\n",
       "      <td>/funding-round/bd626ed022f5c66574b1afe234f3c90d</td>\n",
       "      <td>venture</td>\n",
       "      <td>7/5/2013</td>\n",
       "      <td>5800000.0</td>\n",
       "      <td>90min</td>\n",
       "      <td>http://www.90min.com</td>\n",
       "      <td>Media|News|Publishing|Soccer|Sports</td>\n",
       "      <td>operating</td>\n",
       "      <td>GBR</td>\n",
       "      <td>H9</td>\n",
       "      <td>London</td>\n",
       "      <td>London</td>\n",
       "      <td>Media</td>\n",
       "      <td>Entertainment</td>\n",
       "    </tr>\n",
       "    <tr>\n",
       "      <th>3</th>\n",
       "      <td>/ORGANIZATION/90MIN</td>\n",
       "      <td>/funding-round/fd4b15e8c97ee2ffc0acccdbe1a98810</td>\n",
       "      <td>venture</td>\n",
       "      <td>26-03-2014</td>\n",
       "      <td>18000000.0</td>\n",
       "      <td>90min</td>\n",
       "      <td>http://www.90min.com</td>\n",
       "      <td>Media|News|Publishing|Soccer|Sports</td>\n",
       "      <td>operating</td>\n",
       "      <td>GBR</td>\n",
       "      <td>H9</td>\n",
       "      <td>London</td>\n",
       "      <td>London</td>\n",
       "      <td>Media</td>\n",
       "      <td>Entertainment</td>\n",
       "    </tr>\n",
       "    <tr>\n",
       "      <th>4</th>\n",
       "      <td>/ORGANIZATION/ALL-DEF-DIGITAL</td>\n",
       "      <td>/funding-round/452a2342fe720285c3b92e9bd927d9ba</td>\n",
       "      <td>venture</td>\n",
       "      <td>6/8/2014</td>\n",
       "      <td>5000000.0</td>\n",
       "      <td>All Def Digital</td>\n",
       "      <td>http://alldefdigital.com</td>\n",
       "      <td>Media</td>\n",
       "      <td>operating</td>\n",
       "      <td>USA</td>\n",
       "      <td>CA</td>\n",
       "      <td>Los Angeles</td>\n",
       "      <td>Los Angeles</td>\n",
       "      <td>Media</td>\n",
       "      <td>Entertainment</td>\n",
       "    </tr>\n",
       "  </tbody>\n",
       "</table>\n",
       "</div>"
      ],
      "text/plain": [
       "                            link  \\\n",
       "0            /ORGANIZATION/-FAME   \n",
       "1            /ORGANIZATION/90MIN   \n",
       "2            /ORGANIZATION/90MIN   \n",
       "3            /ORGANIZATION/90MIN   \n",
       "4  /ORGANIZATION/ALL-DEF-DIGITAL   \n",
       "\n",
       "                           funding_round_permalink     type   funded_at  \\\n",
       "0  /funding-round/9a01d05418af9f794eebff7ace91f638  venture    5/1/2015   \n",
       "1  /funding-round/21a2cbf6f2fb2a1c2a61e04bf930dfe6  venture   6/10/2015   \n",
       "2  /funding-round/bd626ed022f5c66574b1afe234f3c90d  venture    7/5/2013   \n",
       "3  /funding-round/fd4b15e8c97ee2ffc0acccdbe1a98810  venture  26-03-2014   \n",
       "4  /funding-round/452a2342fe720285c3b92e9bd927d9ba  venture    6/8/2014   \n",
       "\n",
       "   invested_amount             name              homepage_url  \\\n",
       "0       10000000.0            #fame        http://livfame.com   \n",
       "1       15000000.0            90min      http://www.90min.com   \n",
       "2        5800000.0            90min      http://www.90min.com   \n",
       "3       18000000.0            90min      http://www.90min.com   \n",
       "4        5000000.0  All Def Digital  http://alldefdigital.com   \n",
       "\n",
       "                         category_list     status country state_code  \\\n",
       "0                                Media  operating     IND         16   \n",
       "1  Media|News|Publishing|Soccer|Sports  operating     GBR         H9   \n",
       "2  Media|News|Publishing|Soccer|Sports  operating     GBR         H9   \n",
       "3  Media|News|Publishing|Soccer|Sports  operating     GBR         H9   \n",
       "4                                Media  operating     USA         CA   \n",
       "\n",
       "        region         city primary    main_sector  \n",
       "0       Mumbai       Mumbai   Media  Entertainment  \n",
       "1       London       London   Media  Entertainment  \n",
       "2       London       London   Media  Entertainment  \n",
       "3       London       London   Media  Entertainment  \n",
       "4  Los Angeles  Los Angeles   Media  Entertainment  "
      ]
     },
     "execution_count": 119,
     "metadata": {},
     "output_type": "execute_result"
    }
   ],
   "source": [
    "venture_sector_frame.rename(columns = {'categList_x' : 'category_list'}, inplace = True)\n",
    "\n",
    "venture_sector_frame.head()"
   ]
  },
  {
   "cell_type": "code",
   "execution_count": 120,
   "id": "467055e4",
   "metadata": {},
   "outputs": [],
   "source": [
    "usa_DataFrame=venture_sector_frame.loc[venture_sector_frame['country']=='USA'].reset_index()\n",
    "china_DataFrame=venture_sector_frame.loc[venture_sector_frame['country']=='CHN'].reset_index()\n",
    "GBR_DataFrame=venture_sector_frame.loc[venture_sector_frame['country']=='GBR'].reset_index()"
   ]
  },
  {
   "cell_type": "code",
   "execution_count": 121,
   "id": "5683a26c",
   "metadata": {},
   "outputs": [
    {
     "data": {
      "text/plain": [
       "(35784, 15)"
      ]
     },
     "execution_count": 121,
     "metadata": {},
     "output_type": "execute_result"
    }
   ],
   "source": [
    "usa_DataFrame.drop('index', axis = 1, inplace = True)\n",
    "\n",
    "usa_DataFrame.shape"
   ]
  },
  {
   "cell_type": "code",
   "execution_count": 122,
   "id": "d5fbbe0e",
   "metadata": {},
   "outputs": [
    {
     "data": {
      "text/plain": [
       "(1547, 15)"
      ]
     },
     "execution_count": 122,
     "metadata": {},
     "output_type": "execute_result"
    }
   ],
   "source": [
    "china_DataFrame.drop('index', axis = 1, inplace = True)\n",
    "china_DataFrame.shape"
   ]
  },
  {
   "cell_type": "code",
   "execution_count": 123,
   "id": "4c2728dc",
   "metadata": {},
   "outputs": [
    {
     "data": {
      "text/plain": [
       "(2035, 15)"
      ]
     },
     "execution_count": 123,
     "metadata": {},
     "output_type": "execute_result"
    }
   ],
   "source": [
    "GBR_DataFrame.drop('index', axis = 1, inplace = True)\n",
    "GBR_DataFrame.shape"
   ]
  },
  {
   "cell_type": "code",
   "execution_count": 124,
   "id": "702c0445",
   "metadata": {},
   "outputs": [
    {
     "data": {
      "text/html": [
       "<div>\n",
       "<style scoped>\n",
       "    .dataframe tbody tr th:only-of-type {\n",
       "        vertical-align: middle;\n",
       "    }\n",
       "\n",
       "    .dataframe tbody tr th {\n",
       "        vertical-align: top;\n",
       "    }\n",
       "\n",
       "    .dataframe thead th {\n",
       "        text-align: right;\n",
       "    }\n",
       "</style>\n",
       "<table border=\"1\" class=\"dataframe\">\n",
       "  <thead>\n",
       "    <tr style=\"text-align: right;\">\n",
       "      <th></th>\n",
       "      <th>link</th>\n",
       "      <th>funding_round_permalink</th>\n",
       "      <th>type</th>\n",
       "      <th>funded_at</th>\n",
       "      <th>invested_amount</th>\n",
       "      <th>name</th>\n",
       "      <th>homepage_url</th>\n",
       "      <th>category_list</th>\n",
       "      <th>status</th>\n",
       "      <th>country</th>\n",
       "      <th>state_code</th>\n",
       "      <th>region</th>\n",
       "      <th>city</th>\n",
       "      <th>primary</th>\n",
       "      <th>main_sector</th>\n",
       "    </tr>\n",
       "  </thead>\n",
       "  <tbody>\n",
       "    <tr>\n",
       "      <th>0</th>\n",
       "      <td>/ORGANIZATION/ALL-DEF-DIGITAL</td>\n",
       "      <td>/funding-round/452a2342fe720285c3b92e9bd927d9ba</td>\n",
       "      <td>venture</td>\n",
       "      <td>6/8/2014</td>\n",
       "      <td>5000000.0</td>\n",
       "      <td>All Def Digital</td>\n",
       "      <td>http://alldefdigital.com</td>\n",
       "      <td>Media</td>\n",
       "      <td>operating</td>\n",
       "      <td>USA</td>\n",
       "      <td>CA</td>\n",
       "      <td>Los Angeles</td>\n",
       "      <td>Los Angeles</td>\n",
       "      <td>Media</td>\n",
       "      <td>Entertainment</td>\n",
       "    </tr>\n",
       "    <tr>\n",
       "      <th>1</th>\n",
       "      <td>/ORGANIZATION/AUDIOSOCKET</td>\n",
       "      <td>/funding-round/0959f59e3a89bc8db8c6ed9c646349fd</td>\n",
       "      <td>venture</td>\n",
       "      <td>2/5/2013</td>\n",
       "      <td>650000.0</td>\n",
       "      <td>Audiosocket</td>\n",
       "      <td>http://audiosocket.com</td>\n",
       "      <td>Media|Music|Technology</td>\n",
       "      <td>operating</td>\n",
       "      <td>USA</td>\n",
       "      <td>WA</td>\n",
       "      <td>Seattle</td>\n",
       "      <td>Seattle</td>\n",
       "      <td>Media</td>\n",
       "      <td>Entertainment</td>\n",
       "    </tr>\n",
       "    <tr>\n",
       "      <th>2</th>\n",
       "      <td>/ORGANIZATION/AUDIOSOCKET</td>\n",
       "      <td>/funding-round/4e3a53eec6c609943df752206070b23f</td>\n",
       "      <td>venture</td>\n",
       "      <td>2/9/2009</td>\n",
       "      <td>750000.0</td>\n",
       "      <td>Audiosocket</td>\n",
       "      <td>http://audiosocket.com</td>\n",
       "      <td>Media|Music|Technology</td>\n",
       "      <td>operating</td>\n",
       "      <td>USA</td>\n",
       "      <td>WA</td>\n",
       "      <td>Seattle</td>\n",
       "      <td>Seattle</td>\n",
       "      <td>Media</td>\n",
       "      <td>Entertainment</td>\n",
       "    </tr>\n",
       "    <tr>\n",
       "      <th>3</th>\n",
       "      <td>/ORGANIZATION/AUDIOSOCKET</td>\n",
       "      <td>/funding-round/bc0b412cf2fa7b739e4105ad756b47a4</td>\n",
       "      <td>venture</td>\n",
       "      <td>15-02-2012</td>\n",
       "      <td>1582300.0</td>\n",
       "      <td>Audiosocket</td>\n",
       "      <td>http://audiosocket.com</td>\n",
       "      <td>Media|Music|Technology</td>\n",
       "      <td>operating</td>\n",
       "      <td>USA</td>\n",
       "      <td>WA</td>\n",
       "      <td>Seattle</td>\n",
       "      <td>Seattle</td>\n",
       "      <td>Media</td>\n",
       "      <td>Entertainment</td>\n",
       "    </tr>\n",
       "    <tr>\n",
       "      <th>4</th>\n",
       "      <td>/ORGANIZATION/BABBLE</td>\n",
       "      <td>/funding-round/43cc678b39be3e684bb88501af05ff9b</td>\n",
       "      <td>venture</td>\n",
       "      <td>5/2/2009</td>\n",
       "      <td>2000000.0</td>\n",
       "      <td>Babble</td>\n",
       "      <td>http://www.babble.com</td>\n",
       "      <td>Media|News|Parenting</td>\n",
       "      <td>acquired</td>\n",
       "      <td>USA</td>\n",
       "      <td>NY</td>\n",
       "      <td>New York City</td>\n",
       "      <td>New York</td>\n",
       "      <td>Media</td>\n",
       "      <td>Entertainment</td>\n",
       "    </tr>\n",
       "  </tbody>\n",
       "</table>\n",
       "</div>"
      ],
      "text/plain": [
       "                            link  \\\n",
       "0  /ORGANIZATION/ALL-DEF-DIGITAL   \n",
       "1      /ORGANIZATION/AUDIOSOCKET   \n",
       "2      /ORGANIZATION/AUDIOSOCKET   \n",
       "3      /ORGANIZATION/AUDIOSOCKET   \n",
       "4           /ORGANIZATION/BABBLE   \n",
       "\n",
       "                           funding_round_permalink     type   funded_at  \\\n",
       "0  /funding-round/452a2342fe720285c3b92e9bd927d9ba  venture    6/8/2014   \n",
       "1  /funding-round/0959f59e3a89bc8db8c6ed9c646349fd  venture    2/5/2013   \n",
       "2  /funding-round/4e3a53eec6c609943df752206070b23f  venture    2/9/2009   \n",
       "3  /funding-round/bc0b412cf2fa7b739e4105ad756b47a4  venture  15-02-2012   \n",
       "4  /funding-round/43cc678b39be3e684bb88501af05ff9b  venture    5/2/2009   \n",
       "\n",
       "   invested_amount             name              homepage_url  \\\n",
       "0        5000000.0  All Def Digital  http://alldefdigital.com   \n",
       "1         650000.0      Audiosocket    http://audiosocket.com   \n",
       "2         750000.0      Audiosocket    http://audiosocket.com   \n",
       "3        1582300.0      Audiosocket    http://audiosocket.com   \n",
       "4        2000000.0           Babble     http://www.babble.com   \n",
       "\n",
       "            category_list     status country state_code         region  \\\n",
       "0                   Media  operating     USA         CA    Los Angeles   \n",
       "1  Media|Music|Technology  operating     USA         WA        Seattle   \n",
       "2  Media|Music|Technology  operating     USA         WA        Seattle   \n",
       "3  Media|Music|Technology  operating     USA         WA        Seattle   \n",
       "4    Media|News|Parenting   acquired     USA         NY  New York City   \n",
       "\n",
       "          city primary    main_sector  \n",
       "0  Los Angeles   Media  Entertainment  \n",
       "1      Seattle   Media  Entertainment  \n",
       "2      Seattle   Media  Entertainment  \n",
       "3      Seattle   Media  Entertainment  \n",
       "4     New York   Media  Entertainment  "
      ]
     },
     "execution_count": 124,
     "metadata": {},
     "output_type": "execute_result"
    }
   ],
   "source": [
    "usa_DataFrame.head()"
   ]
  },
  {
   "cell_type": "markdown",
   "id": "df98bcaa",
   "metadata": {},
   "source": [
    "### sector wise investement in USA"
   ]
  },
  {
   "cell_type": "code",
   "execution_count": 126,
   "id": "87ef41c2",
   "metadata": {},
   "outputs": [
    {
     "data": {
      "text/html": [
       "<div>\n",
       "<style scoped>\n",
       "    .dataframe tbody tr th:only-of-type {\n",
       "        vertical-align: middle;\n",
       "    }\n",
       "\n",
       "    .dataframe tbody tr th {\n",
       "        vertical-align: top;\n",
       "    }\n",
       "\n",
       "    .dataframe thead th {\n",
       "        text-align: right;\n",
       "    }\n",
       "</style>\n",
       "<table border=\"1\" class=\"dataframe\">\n",
       "  <thead>\n",
       "    <tr style=\"text-align: right;\">\n",
       "      <th></th>\n",
       "      <th>main_sector</th>\n",
       "      <th>total_investment_count</th>\n",
       "      <th>country</th>\n",
       "    </tr>\n",
       "  </thead>\n",
       "  <tbody>\n",
       "    <tr>\n",
       "      <th>0</th>\n",
       "      <td>Others</td>\n",
       "      <td>8310</td>\n",
       "      <td>USA</td>\n",
       "    </tr>\n",
       "    <tr>\n",
       "      <th>1</th>\n",
       "      <td>Cleantech / Semiconductors</td>\n",
       "      <td>7857</td>\n",
       "      <td>USA</td>\n",
       "    </tr>\n",
       "    <tr>\n",
       "      <th>2</th>\n",
       "      <td>Social, Finance, Analytics, Advertising</td>\n",
       "      <td>7246</td>\n",
       "      <td>USA</td>\n",
       "    </tr>\n",
       "  </tbody>\n",
       "</table>\n",
       "</div>"
      ],
      "text/plain": [
       "                               main_sector  total_investment_count country\n",
       "0                                   Others                    8310     USA\n",
       "1               Cleantech / Semiconductors                    7857     USA\n",
       "2  Social, Finance, Analytics, Advertising                    7246     USA"
      ]
     },
     "execution_count": 126,
     "metadata": {},
     "output_type": "execute_result"
    }
   ],
   "source": [
    "USA_sector = pd.DataFrame(D1.groupby('main_sector')['main_sector'].count().sort_values(ascending = False).rename('total_investment_count')).reset_index()\n",
    "\n",
    "USA_sector['country'] = 'USA'\n",
    "\n",
    "#Top 3 Sectors having the highest number of investments in USA\n",
    "USA_sector.head(3)"
   ]
  },
  {
   "cell_type": "markdown",
   "id": "1f74bcbc",
   "metadata": {},
   "source": [
    "### Sector wise investement in CHN"
   ]
  },
  {
   "cell_type": "code",
   "execution_count": 127,
   "id": "1f88af5a",
   "metadata": {},
   "outputs": [
    {
     "data": {
      "text/html": [
       "<div>\n",
       "<style scoped>\n",
       "    .dataframe tbody tr th:only-of-type {\n",
       "        vertical-align: middle;\n",
       "    }\n",
       "\n",
       "    .dataframe tbody tr th {\n",
       "        vertical-align: top;\n",
       "    }\n",
       "\n",
       "    .dataframe thead th {\n",
       "        text-align: right;\n",
       "    }\n",
       "</style>\n",
       "<table border=\"1\" class=\"dataframe\">\n",
       "  <thead>\n",
       "    <tr style=\"text-align: right;\">\n",
       "      <th></th>\n",
       "      <th>main_sector</th>\n",
       "      <th>total_investment_count</th>\n",
       "      <th>country</th>\n",
       "    </tr>\n",
       "  </thead>\n",
       "  <tbody>\n",
       "    <tr>\n",
       "      <th>0</th>\n",
       "      <td>Others</td>\n",
       "      <td>468</td>\n",
       "      <td>CHN</td>\n",
       "    </tr>\n",
       "    <tr>\n",
       "      <th>1</th>\n",
       "      <td>Social, Finance, Analytics, Advertising</td>\n",
       "      <td>281</td>\n",
       "      <td>CHN</td>\n",
       "    </tr>\n",
       "    <tr>\n",
       "      <th>2</th>\n",
       "      <td>News, Search and Messaging</td>\n",
       "      <td>255</td>\n",
       "      <td>CHN</td>\n",
       "    </tr>\n",
       "  </tbody>\n",
       "</table>\n",
       "</div>"
      ],
      "text/plain": [
       "                               main_sector  total_investment_count country\n",
       "0                                   Others                     468     CHN\n",
       "1  Social, Finance, Analytics, Advertising                     281     CHN\n",
       "2               News, Search and Messaging                     255     CHN"
      ]
     },
     "execution_count": 127,
     "metadata": {},
     "output_type": "execute_result"
    }
   ],
   "source": [
    "CHN_sector = pd.DataFrame(D2.groupby('main_sector')['main_sector'].count().sort_values(ascending = False).rename('total_investment_count')).reset_index()\n",
    "\n",
    "#Add a column 'country' to easily identify the country of investment\n",
    "CHN_sector['country'] = 'CHN'\n",
    "\n",
    "#Top 3 Sectors having the highest number of investments in GBR\n",
    "CHN_sector.head(3)"
   ]
  },
  {
   "cell_type": "code",
   "execution_count": null,
   "id": "5ea3b41f",
   "metadata": {},
   "outputs": [],
   "source": []
  },
  {
   "cell_type": "markdown",
   "id": "979fdf49",
   "metadata": {},
   "source": [
    "### sector wise investement in GBR"
   ]
  },
  {
   "cell_type": "code",
   "execution_count": 128,
   "id": "5feeb2f9",
   "metadata": {},
   "outputs": [
    {
     "data": {
      "text/html": [
       "<div>\n",
       "<style scoped>\n",
       "    .dataframe tbody tr th:only-of-type {\n",
       "        vertical-align: middle;\n",
       "    }\n",
       "\n",
       "    .dataframe tbody tr th {\n",
       "        vertical-align: top;\n",
       "    }\n",
       "\n",
       "    .dataframe thead th {\n",
       "        text-align: right;\n",
       "    }\n",
       "</style>\n",
       "<table border=\"1\" class=\"dataframe\">\n",
       "  <thead>\n",
       "    <tr style=\"text-align: right;\">\n",
       "      <th></th>\n",
       "      <th>main_sector</th>\n",
       "      <th>total_investment_count</th>\n",
       "      <th>country</th>\n",
       "    </tr>\n",
       "  </thead>\n",
       "  <tbody>\n",
       "    <tr>\n",
       "      <th>0</th>\n",
       "      <td>Others</td>\n",
       "      <td>516</td>\n",
       "      <td>GBR</td>\n",
       "    </tr>\n",
       "    <tr>\n",
       "      <th>1</th>\n",
       "      <td>Cleantech / Semiconductors</td>\n",
       "      <td>437</td>\n",
       "      <td>GBR</td>\n",
       "    </tr>\n",
       "    <tr>\n",
       "      <th>2</th>\n",
       "      <td>Social, Finance, Analytics, Advertising</td>\n",
       "      <td>421</td>\n",
       "      <td>GBR</td>\n",
       "    </tr>\n",
       "  </tbody>\n",
       "</table>\n",
       "</div>"
      ],
      "text/plain": [
       "                               main_sector  total_investment_count country\n",
       "0                                   Others                     516     GBR\n",
       "1               Cleantech / Semiconductors                     437     GBR\n",
       "2  Social, Finance, Analytics, Advertising                     421     GBR"
      ]
     },
     "execution_count": 128,
     "metadata": {},
     "output_type": "execute_result"
    }
   ],
   "source": [
    "GBR_sector = pd.DataFrame(D3.groupby('main_sector')['main_sector'].count().sort_values(ascending = False).rename('total_investment_count')).reset_index()\n",
    "\n",
    "GBR_sector['country'] = 'GBR'\n",
    "\n",
    "GBR_sector.head(3)"
   ]
  },
  {
   "cell_type": "markdown",
   "id": "4e67301a",
   "metadata": {},
   "source": [
    "### ploting"
   ]
  },
  {
   "cell_type": "code",
   "execution_count": 129,
   "id": "692a82d2",
   "metadata": {},
   "outputs": [
    {
     "data": {
      "image/png": "[encoded data removed]",
      "text/plain": [
       "<Figure size 1080x720 with 1 Axes>"
      ]
     },
     "metadata": {},
     "output_type": "display_data"
    }
   ],
   "source": [
    "plt.figure(figsize = [15,10])\n",
    "\n",
    "sns.set_theme()\n",
    "\n",
    "fig = sns.barplot(data = funding_type, x = 'type', y = 'invested_amount', order = ['seed', 'angel', 'venture', 'private_equity'])\n",
    "\n",
    "plt.yticks(fig.get_yticks(), fig.get_yticks() / 1000000)\n",
    "\n",
    "plt.ylabel(\"invested_amount\")\n",
    "\n",
    "plt.title(\"Median Amount of Investment\") \n",
    "\n",
    "plt.show()"
   ]
  },
  {
   "cell_type": "markdown",
   "id": "695946bb",
   "metadata": {},
   "source": [
    "### country plot"
   ]
  },
  {
   "cell_type": "code",
   "execution_count": 130,
   "id": "4a61ba16",
   "metadata": {},
   "outputs": [
    {
     "data": {
      "image/png": "[encoded data removed]",
      "text/plain": [
       "<Figure size 1080x720 with 1 Axes>"
      ]
     },
     "metadata": {},
     "output_type": "display_data"
    }
   ],
   "source": [
    "plt.figure(figsize = [15,10])\n",
    "\n",
    "sns.set_theme()\n",
    "\n",
    "fig = sns.barplot(data = top5_country, x = 'country', y = 'invested_amount')\n",
    "\n",
    "plt.yticks(fig.get_yticks(), fig.get_yticks() / 1000000000)\n",
    "\n",
    "plt.ylabel(\"invested_amount\")\n",
    "\n",
    "plt.title(\"Total Amount of Investment in Top 5 Countries\") \n",
    "\n",
    "plt.show()\n"
   ]
  },
  {
   "cell_type": "markdown",
   "id": "6f11a470",
   "metadata": {},
   "source": [
    "### Top 3 sectors "
   ]
  },
  {
   "cell_type": "code",
   "execution_count": 133,
   "id": "6eb2e6d0",
   "metadata": {},
   "outputs": [
    {
     "data": {
      "text/html": [
       "<div>\n",
       "<style scoped>\n",
       "    .dataframe tbody tr th:only-of-type {\n",
       "        vertical-align: middle;\n",
       "    }\n",
       "\n",
       "    .dataframe tbody tr th {\n",
       "        vertical-align: top;\n",
       "    }\n",
       "\n",
       "    .dataframe thead th {\n",
       "        text-align: right;\n",
       "    }\n",
       "</style>\n",
       "<table border=\"1\" class=\"dataframe\">\n",
       "  <thead>\n",
       "    <tr style=\"text-align: right;\">\n",
       "      <th></th>\n",
       "      <th>main_sector</th>\n",
       "      <th>total_investment_count</th>\n",
       "      <th>country</th>\n",
       "    </tr>\n",
       "  </thead>\n",
       "  <tbody>\n",
       "    <tr>\n",
       "      <th>0</th>\n",
       "      <td>Others</td>\n",
       "      <td>8310</td>\n",
       "      <td>USA</td>\n",
       "    </tr>\n",
       "    <tr>\n",
       "      <th>1</th>\n",
       "      <td>Cleantech / Semiconductors</td>\n",
       "      <td>7857</td>\n",
       "      <td>USA</td>\n",
       "    </tr>\n",
       "    <tr>\n",
       "      <th>2</th>\n",
       "      <td>Social, Finance, Analytics, Advertising</td>\n",
       "      <td>7246</td>\n",
       "      <td>USA</td>\n",
       "    </tr>\n",
       "    <tr>\n",
       "      <th>3</th>\n",
       "      <td>Others</td>\n",
       "      <td>516</td>\n",
       "      <td>GBR</td>\n",
       "    </tr>\n",
       "    <tr>\n",
       "      <th>4</th>\n",
       "      <td>Cleantech / Semiconductors</td>\n",
       "      <td>437</td>\n",
       "      <td>GBR</td>\n",
       "    </tr>\n",
       "    <tr>\n",
       "      <th>5</th>\n",
       "      <td>Social, Finance, Analytics, Advertising</td>\n",
       "      <td>421</td>\n",
       "      <td>GBR</td>\n",
       "    </tr>\n",
       "    <tr>\n",
       "      <th>6</th>\n",
       "      <td>Others</td>\n",
       "      <td>468</td>\n",
       "      <td>CHN</td>\n",
       "    </tr>\n",
       "    <tr>\n",
       "      <th>7</th>\n",
       "      <td>Social, Finance, Analytics, Advertising</td>\n",
       "      <td>281</td>\n",
       "      <td>CHN</td>\n",
       "    </tr>\n",
       "    <tr>\n",
       "      <th>8</th>\n",
       "      <td>News, Search and Messaging</td>\n",
       "      <td>255</td>\n",
       "      <td>CHN</td>\n",
       "    </tr>\n",
       "  </tbody>\n",
       "</table>\n",
       "</div>"
      ],
      "text/plain": [
       "                               main_sector  total_investment_count country\n",
       "0                                   Others                    8310     USA\n",
       "1               Cleantech / Semiconductors                    7857     USA\n",
       "2  Social, Finance, Analytics, Advertising                    7246     USA\n",
       "3                                   Others                     516     GBR\n",
       "4               Cleantech / Semiconductors                     437     GBR\n",
       "5  Social, Finance, Analytics, Advertising                     421     GBR\n",
       "6                                   Others                     468     CHN\n",
       "7  Social, Finance, Analytics, Advertising                     281     CHN\n",
       "8               News, Search and Messaging                     255     CHN"
      ]
     },
     "execution_count": 133,
     "metadata": {},
     "output_type": "execute_result"
    }
   ],
   "source": [
    "america = USA_sector.sort_values(by='total_investment_count',ascending = False).head(3)\n",
    "britan = GBR_sector.sort_values(by='total_investment_count',ascending = False).head(3)\n",
    "china = CHN_sector.sort_values(by='total_investment_count',ascending = False).head(3)\n",
    "\n",
    "combined = pd.merge(pd.merge(america,britan,how='outer'),china,how='outer')\n",
    "\n",
    "combined\n"
   ]
  },
  {
   "cell_type": "code",
   "execution_count": 134,
   "id": "b51b9230",
   "metadata": {},
   "outputs": [
    {
     "data": {
      "image/png": "[encoded data removed]",
      "text/plain": [
       "<Figure size 1080x720 with 1 Axes>"
      ]
     },
     "metadata": {},
     "output_type": "display_data"
    }
   ],
   "source": [
    "plt.figure(figsize = [15,10])\n",
    "\n",
    "sns.set_theme()\n",
    "\n",
    "sns.barplot(x = 'country', y = 'total_investment_count',data = combined, hue = 'main_sector')\n",
    "\n",
    "plt.ylabel(\"Total Investment Count\")\n",
    "\n",
    "plt.xlabel(\"Top 3 Countries\")\n",
    "\n",
    "plt.title(\"Number of Investments in the Top 3 Sectors of the Top 3 Countries\") \n",
    "\n",
    "plt.show()"
   ]
  },
  {
   "cell_type": "code",
   "execution_count": null,
   "id": "e7ee4cae",
   "metadata": {},
   "outputs": [],
   "source": []
  }
 ],
 "metadata": {
  "kernelspec": {
   "display_name": "Python 3 (ipykernel)",
   "language": "python",
   "name": "python3"
  },
  "language_info": {
   "codemirror_mode": {
    "name": "ipython",
    "version": 3
   },
   "file_extension": ".py",
   "mimetype": "text/x-python",
   "name": "python",
   "nbconvert_exporter": "python",
   "pygments_lexer": "ipython3",
   "version": "3.9.7"
  }
 },
 "nbformat": 4,
 "nbformat_minor": 5
}
